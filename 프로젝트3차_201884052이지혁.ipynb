{
 "cells": [
  {
   "cell_type": "markdown",
   "metadata": {},
   "source": [
    "# 서울시 아파트 실거래가를 이용한 서울시 아파트 유형분석  - 201884052 이지혁\n",
    "### 프로젝트2까지 실거래가를 예측하는 프로젝트를 진행하려 하였으나 프로젝트3에서는 k-prototypes 클러스터링으로 2020년 서울시 아파트 실거래가 데이터로 군집을 하는 프로젝트를 진행\n",
    "### 서울시 아파트 실거래가를 사용하였음\n",
    "- 라이브러리 호출"
   ]
  },
  {
   "cell_type": "code",
   "execution_count": 1,
   "metadata": {},
   "outputs": [],
   "source": [
    "import numpy as np\n",
    "import pandas as pd\n",
    "import seaborn as sns\n",
    "import matplotlib.pyplot as plt\n",
    "from datetime import datetime\n",
    "# 한글 폰트 사용을 위해서 세팅\n",
    "from matplotlib import font_manager, rc\n",
    "font_path = \"C:/Windows/Fonts/NGULIM.TTF\"\n",
    "font = font_manager.FontProperties(fname=font_path).get_name()\n",
    "rc('font', family=font)"
   ]
  },
  {
   "cell_type": "markdown",
   "metadata": {},
   "source": [
    "# 데이터 불러오기"
   ]
  },
  {
   "cell_type": "code",
   "execution_count": 2,
   "metadata": {},
   "outputs": [
    {
     "data": {
      "text/html": [
       "<div>\n",
       "<style scoped>\n",
       "    .dataframe tbody tr th:only-of-type {\n",
       "        vertical-align: middle;\n",
       "    }\n",
       "\n",
       "    .dataframe tbody tr th {\n",
       "        vertical-align: top;\n",
       "    }\n",
       "\n",
       "    .dataframe thead th {\n",
       "        text-align: right;\n",
       "    }\n",
       "</style>\n",
       "<table border=\"1\" class=\"dataframe\">\n",
       "  <thead>\n",
       "    <tr style=\"text-align: right;\">\n",
       "      <th></th>\n",
       "      <th>실거래가아이디</th>\n",
       "      <th>지번코드</th>\n",
       "      <th>시군구코드</th>\n",
       "      <th>자치구명</th>\n",
       "      <th>법정동코드</th>\n",
       "      <th>법정동명</th>\n",
       "      <th>신고년도</th>\n",
       "      <th>업무구분코드</th>\n",
       "      <th>업무구분</th>\n",
       "      <th>물건번호</th>\n",
       "      <th>대지권면적</th>\n",
       "      <th>건물면적</th>\n",
       "      <th>관리구분코드</th>\n",
       "      <th>층정보</th>\n",
       "      <th>건물주용도코드</th>\n",
       "      <th>건물주용도</th>\n",
       "      <th>물건금액</th>\n",
       "      <th>건축년도</th>\n",
       "      <th>건물명</th>\n",
       "    </tr>\n",
       "  </thead>\n",
       "  <tbody>\n",
       "    <tr>\n",
       "      <th>0</th>\n",
       "      <td>11290-2020-4-0000066-1</td>\n",
       "      <td>1129013800101440024</td>\n",
       "      <td>11290</td>\n",
       "      <td>성북구</td>\n",
       "      <td>1129013800</td>\n",
       "      <td>장위동</td>\n",
       "      <td>2020</td>\n",
       "      <td>4</td>\n",
       "      <td>신고</td>\n",
       "      <td>1</td>\n",
       "      <td>0.0</td>\n",
       "      <td>59.92</td>\n",
       "      <td>2</td>\n",
       "      <td>5.0</td>\n",
       "      <td>2001</td>\n",
       "      <td>아파트</td>\n",
       "      <td>749000000</td>\n",
       "      <td>0.0</td>\n",
       "      <td>래미안 장위포레카운티</td>\n",
       "    </tr>\n",
       "    <tr>\n",
       "      <th>1</th>\n",
       "      <td>11290-2020-4-0000628-1</td>\n",
       "      <td>1129013400105080016</td>\n",
       "      <td>11290</td>\n",
       "      <td>성북구</td>\n",
       "      <td>1129013400</td>\n",
       "      <td>길음동</td>\n",
       "      <td>2020</td>\n",
       "      <td>4</td>\n",
       "      <td>신고</td>\n",
       "      <td>1</td>\n",
       "      <td>0.0</td>\n",
       "      <td>84.77</td>\n",
       "      <td>2</td>\n",
       "      <td>18.0</td>\n",
       "      <td>2001</td>\n",
       "      <td>아파트</td>\n",
       "      <td>1200000000</td>\n",
       "      <td>0.0</td>\n",
       "      <td>롯데캐슬 클라시아</td>\n",
       "    </tr>\n",
       "    <tr>\n",
       "      <th>2</th>\n",
       "      <td>11530-2020-4-0014284-1</td>\n",
       "      <td>1153010200107400029</td>\n",
       "      <td>11530</td>\n",
       "      <td>구로구</td>\n",
       "      <td>1153010200</td>\n",
       "      <td>구로동</td>\n",
       "      <td>2020</td>\n",
       "      <td>4</td>\n",
       "      <td>신고</td>\n",
       "      <td>1</td>\n",
       "      <td>NaN</td>\n",
       "      <td>36.90</td>\n",
       "      <td>0</td>\n",
       "      <td>1.0</td>\n",
       "      <td>2001</td>\n",
       "      <td>아파트</td>\n",
       "      <td>105000000</td>\n",
       "      <td>1994.0</td>\n",
       "      <td>궁전아트빌라</td>\n",
       "    </tr>\n",
       "    <tr>\n",
       "      <th>3</th>\n",
       "      <td>11170-2020-4-0005040-1</td>\n",
       "      <td>1117011500101930000</td>\n",
       "      <td>11170</td>\n",
       "      <td>용산구</td>\n",
       "      <td>1117011500</td>\n",
       "      <td>산천동</td>\n",
       "      <td>2020</td>\n",
       "      <td>4</td>\n",
       "      <td>신고</td>\n",
       "      <td>1</td>\n",
       "      <td>NaN</td>\n",
       "      <td>59.55</td>\n",
       "      <td>0</td>\n",
       "      <td>2.0</td>\n",
       "      <td>2001</td>\n",
       "      <td>아파트</td>\n",
       "      <td>830000000</td>\n",
       "      <td>2001.0</td>\n",
       "      <td>리버힐삼성</td>\n",
       "    </tr>\n",
       "    <tr>\n",
       "      <th>4</th>\n",
       "      <td>11170-2020-4-0001553-1</td>\n",
       "      <td>1117012900101930003</td>\n",
       "      <td>11170</td>\n",
       "      <td>용산구</td>\n",
       "      <td>1117012900</td>\n",
       "      <td>이촌동</td>\n",
       "      <td>2020</td>\n",
       "      <td>4</td>\n",
       "      <td>신고</td>\n",
       "      <td>1</td>\n",
       "      <td>NaN</td>\n",
       "      <td>64.43</td>\n",
       "      <td>0</td>\n",
       "      <td>5.0</td>\n",
       "      <td>2001</td>\n",
       "      <td>아파트</td>\n",
       "      <td>735000000</td>\n",
       "      <td>1971.0</td>\n",
       "      <td>강변</td>\n",
       "    </tr>\n",
       "  </tbody>\n",
       "</table>\n",
       "</div>"
      ],
      "text/plain": [
       "                  실거래가아이디                 지번코드  시군구코드 자치구명       법정동코드 법정동명  \\\n",
       "0  11290-2020-4-0000066-1  1129013800101440024  11290  성북구  1129013800  장위동   \n",
       "1  11290-2020-4-0000628-1  1129013400105080016  11290  성북구  1129013400  길음동   \n",
       "2  11530-2020-4-0014284-1  1153010200107400029  11530  구로구  1153010200  구로동   \n",
       "3  11170-2020-4-0005040-1  1117011500101930000  11170  용산구  1117011500  산천동   \n",
       "4  11170-2020-4-0001553-1  1117012900101930003  11170  용산구  1117012900  이촌동   \n",
       "\n",
       "   신고년도  업무구분코드 업무구분  물건번호  대지권면적   건물면적 관리구분코드   층정보  건물주용도코드 건물주용도  \\\n",
       "0  2020       4   신고     1    0.0  59.92      2   5.0     2001   아파트   \n",
       "1  2020       4   신고     1    0.0  84.77      2  18.0     2001   아파트   \n",
       "2  2020       4   신고     1    NaN  36.90      0   1.0     2001   아파트   \n",
       "3  2020       4   신고     1    NaN  59.55      0   2.0     2001   아파트   \n",
       "4  2020       4   신고     1    NaN  64.43      0   5.0     2001   아파트   \n",
       "\n",
       "         물건금액    건축년도          건물명  \n",
       "0   749000000     0.0  래미안 장위포레카운티  \n",
       "1  1200000000     0.0   롯데캐슬 클라시아   \n",
       "2   105000000  1994.0       궁전아트빌라  \n",
       "3   830000000  2001.0        리버힐삼성  \n",
       "4   735000000  1971.0           강변  "
      ]
     },
     "execution_count": 2,
     "metadata": {},
     "output_type": "execute_result"
    }
   ],
   "source": [
    "#2020년 데이터 분석\n",
    "filename='C:/Users/LEE_JI_HYEOK_V2/Documents/data/DAML/서울특별시_부동산_실거래가_정보_2020년.csv'\n",
    "df2020=pd.read_csv(filename, encoding='euc-kr', low_memory=False)\n",
    "df2020.head()"
   ]
  },
  {
   "cell_type": "code",
   "execution_count": 3,
   "metadata": {},
   "outputs": [
    {
     "data": {
      "text/plain": [
       "(176001, 19)"
      ]
     },
     "execution_count": 3,
     "metadata": {},
     "output_type": "execute_result"
    }
   ],
   "source": [
    "df2020.shape"
   ]
  },
  {
   "cell_type": "code",
   "execution_count": 4,
   "metadata": {},
   "outputs": [
    {
     "name": "stdout",
     "output_type": "stream",
     "text": [
      "<class 'pandas.core.frame.DataFrame'>\n",
      "RangeIndex: 176001 entries, 0 to 176000\n",
      "Data columns (total 19 columns):\n",
      " #   Column   Non-Null Count   Dtype  \n",
      "---  ------   --------------   -----  \n",
      " 0   실거래가아이디  176001 non-null  object \n",
      " 1   지번코드     176001 non-null  object \n",
      " 2   시군구코드    176001 non-null  int64  \n",
      " 3   자치구명     176001 non-null  object \n",
      " 4   법정동코드    176001 non-null  int64  \n",
      " 5   법정동명     176001 non-null  object \n",
      " 6   신고년도     176001 non-null  int64  \n",
      " 7   업무구분코드   176001 non-null  int64  \n",
      " 8   업무구분     176001 non-null  object \n",
      " 9   물건번호     176001 non-null  int64  \n",
      " 10  대지권면적    89147 non-null   float64\n",
      " 11  건물면적     176001 non-null  float64\n",
      " 12  관리구분코드   176001 non-null  object \n",
      " 13  층정보      163838 non-null  float64\n",
      " 14  건물주용도코드  176001 non-null  int64  \n",
      " 15  건물주용도    176001 non-null  object \n",
      " 16  물건금액     176001 non-null  int64  \n",
      " 17  건축년도     175436 non-null  float64\n",
      " 18  건물명      163838 non-null  object \n",
      "dtypes: float64(4), int64(7), object(8)\n",
      "memory usage: 25.5+ MB\n"
     ]
    }
   ],
   "source": [
    "df2020.info()"
   ]
  },
  {
   "cell_type": "code",
   "execution_count": 5,
   "metadata": {},
   "outputs": [
    {
     "data": {
      "text/plain": [
       "Index(['실거래가아이디', '지번코드', '시군구코드', '자치구명', '법정동코드', '법정동명', '신고년도', '업무구분코드',\n",
       "       '업무구분', '물건번호', '대지권면적', '건물면적', '관리구분코드', '층정보', '건물주용도코드', '건물주용도',\n",
       "       '물건금액', '건축년도', '건물명'],\n",
       "      dtype='object')"
      ]
     },
     "execution_count": 5,
     "metadata": {},
     "output_type": "execute_result"
    }
   ],
   "source": [
    "df2020.columns"
   ]
  },
  {
   "cell_type": "code",
   "execution_count": 161,
   "metadata": {},
   "outputs": [
    {
     "data": {
      "text/plain": [
       "array(['아파트', '연립주택', '오피스텔', '단독주택'], dtype=object)"
      ]
     },
     "execution_count": 161,
     "metadata": {},
     "output_type": "execute_result"
    }
   ],
   "source": [
    "df2020['건물주용도'].unique()"
   ]
  },
  {
   "cell_type": "markdown",
   "metadata": {},
   "source": [
    "# 데이터 전처리\n",
    "- 아파트만 알아보기 위해 필터링\n",
    "- 결측치가 0으로 표기되어있어 0이상으로 필터링\n",
    "- 사용할 컬럼명만 남김"
   ]
  },
  {
   "cell_type": "code",
   "execution_count": 3,
   "metadata": {},
   "outputs": [
    {
     "data": {
      "text/html": [
       "<div>\n",
       "<style scoped>\n",
       "    .dataframe tbody tr th:only-of-type {\n",
       "        vertical-align: middle;\n",
       "    }\n",
       "\n",
       "    .dataframe tbody tr th {\n",
       "        vertical-align: top;\n",
       "    }\n",
       "\n",
       "    .dataframe thead th {\n",
       "        text-align: right;\n",
       "    }\n",
       "</style>\n",
       "<table border=\"1\" class=\"dataframe\">\n",
       "  <thead>\n",
       "    <tr style=\"text-align: right;\">\n",
       "      <th></th>\n",
       "      <th>자치구명</th>\n",
       "      <th>법정동명</th>\n",
       "      <th>건물면적</th>\n",
       "      <th>층정보</th>\n",
       "      <th>건축년도</th>\n",
       "      <th>물건금액</th>\n",
       "      <th>건물명</th>\n",
       "    </tr>\n",
       "  </thead>\n",
       "  <tbody>\n",
       "    <tr>\n",
       "      <th>2</th>\n",
       "      <td>구로구</td>\n",
       "      <td>구로동</td>\n",
       "      <td>36.90</td>\n",
       "      <td>1.0</td>\n",
       "      <td>1994.0</td>\n",
       "      <td>105000000</td>\n",
       "      <td>궁전아트빌라</td>\n",
       "    </tr>\n",
       "    <tr>\n",
       "      <th>3</th>\n",
       "      <td>용산구</td>\n",
       "      <td>산천동</td>\n",
       "      <td>59.55</td>\n",
       "      <td>2.0</td>\n",
       "      <td>2001.0</td>\n",
       "      <td>830000000</td>\n",
       "      <td>리버힐삼성</td>\n",
       "    </tr>\n",
       "    <tr>\n",
       "      <th>4</th>\n",
       "      <td>용산구</td>\n",
       "      <td>이촌동</td>\n",
       "      <td>64.43</td>\n",
       "      <td>5.0</td>\n",
       "      <td>1971.0</td>\n",
       "      <td>735000000</td>\n",
       "      <td>강변</td>\n",
       "    </tr>\n",
       "    <tr>\n",
       "      <th>5</th>\n",
       "      <td>용산구</td>\n",
       "      <td>이태원동</td>\n",
       "      <td>105.75</td>\n",
       "      <td>9.0</td>\n",
       "      <td>1982.0</td>\n",
       "      <td>1430000000</td>\n",
       "      <td>청화1</td>\n",
       "    </tr>\n",
       "    <tr>\n",
       "      <th>7</th>\n",
       "      <td>용산구</td>\n",
       "      <td>후암동</td>\n",
       "      <td>150.08</td>\n",
       "      <td>4.0</td>\n",
       "      <td>2002.0</td>\n",
       "      <td>875000000</td>\n",
       "      <td>힐튼빌리지2차</td>\n",
       "    </tr>\n",
       "  </tbody>\n",
       "</table>\n",
       "</div>"
      ],
      "text/plain": [
       "  자치구명  법정동명    건물면적  층정보    건축년도        물건금액      건물명\n",
       "2  구로구   구로동   36.90  1.0  1994.0   105000000   궁전아트빌라\n",
       "3  용산구   산천동   59.55  2.0  2001.0   830000000    리버힐삼성\n",
       "4  용산구   이촌동   64.43  5.0  1971.0   735000000       강변\n",
       "5  용산구  이태원동  105.75  9.0  1982.0  1430000000      청화1\n",
       "7  용산구   후암동  150.08  4.0  2002.0   875000000  힐튼빌리지2차"
      ]
     },
     "execution_count": 3,
     "metadata": {},
     "output_type": "execute_result"
    }
   ],
   "source": [
    "df=df2020.loc[df2020['건물주용도']=='아파트',:]\n",
    "df=df[df['건축년도']>0]\n",
    "df=df[df['층정보']>0]\n",
    "df=df[df['건물면적']>0]\n",
    "df=df[df['물건금액']>0]\n",
    "df=df[['자치구명', '법정동명','건물면적','층정보','건축년도','물건금액','건물명']]\n",
    "df.head()"
   ]
  },
  {
   "cell_type": "code",
   "execution_count": 7,
   "metadata": {},
   "outputs": [
    {
     "name": "stdout",
     "output_type": "stream",
     "text": [
      "<class 'pandas.core.frame.DataFrame'>\n",
      "Int64Index: 87372 entries, 2 to 175994\n",
      "Data columns (total 7 columns):\n",
      " #   Column  Non-Null Count  Dtype  \n",
      "---  ------  --------------  -----  \n",
      " 0   자치구명    87372 non-null  object \n",
      " 1   법정동명    87372 non-null  object \n",
      " 2   건물면적    87372 non-null  float64\n",
      " 3   층정보     87372 non-null  float64\n",
      " 4   건축년도    87372 non-null  float64\n",
      " 5   물건금액    87372 non-null  int64  \n",
      " 6   건물명     87372 non-null  object \n",
      "dtypes: float64(3), int64(1), object(3)\n",
      "memory usage: 5.3+ MB\n"
     ]
    }
   ],
   "source": [
    "df.info()"
   ]
  },
  {
   "cell_type": "markdown",
   "metadata": {},
   "source": [
    "# 파생변수 생성\n",
    "- 평수, 금액(단위:억), 평당금액(단위:천만), 건물년식, 동네명"
   ]
  },
  {
   "cell_type": "code",
   "execution_count": 4,
   "metadata": {},
   "outputs": [],
   "source": [
    "#평수\n",
    "df['평수']=round(df['건물면적']/3.305785)"
   ]
  },
  {
   "cell_type": "code",
   "execution_count": 5,
   "metadata": {},
   "outputs": [],
   "source": [
    "#금액 억대\n",
    "df['물건금액(단위:억)']=round(df['물건금액']/100000000,1)"
   ]
  },
  {
   "cell_type": "markdown",
   "metadata": {},
   "source": [
    "- 평수, 건축년도, 물건금액, 층정정보 시각화"
   ]
  },
  {
   "cell_type": "code",
   "execution_count": 11,
   "metadata": {
    "scrolled": false
   },
   "outputs": [
    {
     "name": "stderr",
     "output_type": "stream",
     "text": [
      "C:\\Users\\LEE_JI_HYEOK_V2\\anaconda3\\lib\\site-packages\\seaborn\\distributions.py:2619: FutureWarning: `distplot` is a deprecated function and will be removed in a future version. Please adapt your code to use either `displot` (a figure-level function with similar flexibility) or `histplot` (an axes-level function for histograms).\n",
      "  warnings.warn(msg, FutureWarning)\n",
      "C:\\Users\\LEE_JI_HYEOK_V2\\anaconda3\\lib\\site-packages\\seaborn\\distributions.py:2619: FutureWarning: `distplot` is a deprecated function and will be removed in a future version. Please adapt your code to use either `displot` (a figure-level function with similar flexibility) or `histplot` (an axes-level function for histograms).\n",
      "  warnings.warn(msg, FutureWarning)\n",
      "C:\\Users\\LEE_JI_HYEOK_V2\\anaconda3\\lib\\site-packages\\seaborn\\distributions.py:2619: FutureWarning: `distplot` is a deprecated function and will be removed in a future version. Please adapt your code to use either `displot` (a figure-level function with similar flexibility) or `histplot` (an axes-level function for histograms).\n",
      "  warnings.warn(msg, FutureWarning)\n",
      "C:\\Users\\LEE_JI_HYEOK_V2\\anaconda3\\lib\\site-packages\\seaborn\\distributions.py:2619: FutureWarning: `distplot` is a deprecated function and will be removed in a future version. Please adapt your code to use either `displot` (a figure-level function with similar flexibility) or `histplot` (an axes-level function for histograms).\n",
      "  warnings.warn(msg, FutureWarning)\n"
     ]
    },
    {
     "data": {
      "image/png": "[encoded data removed]",
      "text/plain": [
       "<Figure size 1440x1152 with 4 Axes>"
      ]
     },
     "metadata": {
      "needs_background": "light"
     },
     "output_type": "display_data"
    }
   ],
   "source": [
    "import seaborn as sns\n",
    "fig, ax = plt.subplots(2,2, figsize=(20,16))\n",
    "sns.distplot(df['평수'], ax=ax[0,0])\n",
    "sns.distplot(df['건축년도'], ax=ax[0,1])\n",
    "sns.distplot(df['물건금액(단위:억)'], ax=ax[1,0])\n",
    "sns.distplot(df['층정보'], ax=ax[1,1])\n",
    "plt.show()"
   ]
  },
  {
   "cell_type": "code",
   "execution_count": 7,
   "metadata": {},
   "outputs": [],
   "source": [
    "#평당 가격(단위:천만)\n",
    "df['평당가격(단위:천만)']=round((df['물건금액']/df['평수'])/10000000,3)"
   ]
  },
  {
   "cell_type": "code",
   "execution_count": 8,
   "metadata": {},
   "outputs": [],
   "source": [
    "#건축년도\n",
    "import datetime as dt"
   ]
  },
  {
   "cell_type": "code",
   "execution_count": 9,
   "metadata": {},
   "outputs": [
    {
     "data": {
      "text/plain": [
       "datetime.datetime(2021, 12, 8, 8, 39, 45, 946714)"
      ]
     },
     "execution_count": 9,
     "metadata": {},
     "output_type": "execute_result"
    }
   ],
   "source": [
    "dt = dt.datetime.now()\n",
    "dt"
   ]
  },
  {
   "cell_type": "code",
   "execution_count": 10,
   "metadata": {},
   "outputs": [],
   "source": [
    "df['건물년식']=dt.year-df['건축년도']"
   ]
  },
  {
   "cell_type": "code",
   "execution_count": 11,
   "metadata": {},
   "outputs": [],
   "source": [
    "#동네명\n",
    "df['동네명']=df['자치구명']+' '+df['법정동명']#+' '+df['건물명']"
   ]
  },
  {
   "cell_type": "code",
   "execution_count": 12,
   "metadata": {
    "scrolled": false
   },
   "outputs": [
    {
     "data": {
      "text/html": [
       "<div>\n",
       "<style scoped>\n",
       "    .dataframe tbody tr th:only-of-type {\n",
       "        vertical-align: middle;\n",
       "    }\n",
       "\n",
       "    .dataframe tbody tr th {\n",
       "        vertical-align: top;\n",
       "    }\n",
       "\n",
       "    .dataframe thead th {\n",
       "        text-align: right;\n",
       "    }\n",
       "</style>\n",
       "<table border=\"1\" class=\"dataframe\">\n",
       "  <thead>\n",
       "    <tr style=\"text-align: right;\">\n",
       "      <th></th>\n",
       "      <th>자치구명</th>\n",
       "      <th>법정동명</th>\n",
       "      <th>건물면적</th>\n",
       "      <th>층정보</th>\n",
       "      <th>건축년도</th>\n",
       "      <th>물건금액</th>\n",
       "      <th>건물명</th>\n",
       "      <th>평수</th>\n",
       "      <th>물건금액(단위:억)</th>\n",
       "      <th>평당가격(단위:천만)</th>\n",
       "      <th>건물년식</th>\n",
       "      <th>동네명</th>\n",
       "    </tr>\n",
       "  </thead>\n",
       "  <tbody>\n",
       "    <tr>\n",
       "      <th>2</th>\n",
       "      <td>구로구</td>\n",
       "      <td>구로동</td>\n",
       "      <td>36.90</td>\n",
       "      <td>1.0</td>\n",
       "      <td>1994.0</td>\n",
       "      <td>105000000</td>\n",
       "      <td>궁전아트빌라</td>\n",
       "      <td>11.0</td>\n",
       "      <td>1.0</td>\n",
       "      <td>0.955</td>\n",
       "      <td>27.0</td>\n",
       "      <td>구로구 구로동</td>\n",
       "    </tr>\n",
       "    <tr>\n",
       "      <th>3</th>\n",
       "      <td>용산구</td>\n",
       "      <td>산천동</td>\n",
       "      <td>59.55</td>\n",
       "      <td>2.0</td>\n",
       "      <td>2001.0</td>\n",
       "      <td>830000000</td>\n",
       "      <td>리버힐삼성</td>\n",
       "      <td>18.0</td>\n",
       "      <td>8.3</td>\n",
       "      <td>4.611</td>\n",
       "      <td>20.0</td>\n",
       "      <td>용산구 산천동</td>\n",
       "    </tr>\n",
       "    <tr>\n",
       "      <th>4</th>\n",
       "      <td>용산구</td>\n",
       "      <td>이촌동</td>\n",
       "      <td>64.43</td>\n",
       "      <td>5.0</td>\n",
       "      <td>1971.0</td>\n",
       "      <td>735000000</td>\n",
       "      <td>강변</td>\n",
       "      <td>19.0</td>\n",
       "      <td>7.4</td>\n",
       "      <td>3.868</td>\n",
       "      <td>50.0</td>\n",
       "      <td>용산구 이촌동</td>\n",
       "    </tr>\n",
       "    <tr>\n",
       "      <th>5</th>\n",
       "      <td>용산구</td>\n",
       "      <td>이태원동</td>\n",
       "      <td>105.75</td>\n",
       "      <td>9.0</td>\n",
       "      <td>1982.0</td>\n",
       "      <td>1430000000</td>\n",
       "      <td>청화1</td>\n",
       "      <td>32.0</td>\n",
       "      <td>14.3</td>\n",
       "      <td>4.469</td>\n",
       "      <td>39.0</td>\n",
       "      <td>용산구 이태원동</td>\n",
       "    </tr>\n",
       "    <tr>\n",
       "      <th>7</th>\n",
       "      <td>용산구</td>\n",
       "      <td>후암동</td>\n",
       "      <td>150.08</td>\n",
       "      <td>4.0</td>\n",
       "      <td>2002.0</td>\n",
       "      <td>875000000</td>\n",
       "      <td>힐튼빌리지2차</td>\n",
       "      <td>45.0</td>\n",
       "      <td>8.8</td>\n",
       "      <td>1.944</td>\n",
       "      <td>19.0</td>\n",
       "      <td>용산구 후암동</td>\n",
       "    </tr>\n",
       "    <tr>\n",
       "      <th>...</th>\n",
       "      <td>...</td>\n",
       "      <td>...</td>\n",
       "      <td>...</td>\n",
       "      <td>...</td>\n",
       "      <td>...</td>\n",
       "      <td>...</td>\n",
       "      <td>...</td>\n",
       "      <td>...</td>\n",
       "      <td>...</td>\n",
       "      <td>...</td>\n",
       "      <td>...</td>\n",
       "      <td>...</td>\n",
       "    </tr>\n",
       "    <tr>\n",
       "      <th>175970</th>\n",
       "      <td>마포구</td>\n",
       "      <td>염리동</td>\n",
       "      <td>58.71</td>\n",
       "      <td>4.0</td>\n",
       "      <td>1997.0</td>\n",
       "      <td>626000000</td>\n",
       "      <td>상록</td>\n",
       "      <td>18.0</td>\n",
       "      <td>6.3</td>\n",
       "      <td>3.478</td>\n",
       "      <td>24.0</td>\n",
       "      <td>마포구 염리동</td>\n",
       "    </tr>\n",
       "    <tr>\n",
       "      <th>175977</th>\n",
       "      <td>마포구</td>\n",
       "      <td>공덕동</td>\n",
       "      <td>113.67</td>\n",
       "      <td>4.0</td>\n",
       "      <td>2004.0</td>\n",
       "      <td>1330000000</td>\n",
       "      <td>한화꿈에그린</td>\n",
       "      <td>34.0</td>\n",
       "      <td>13.3</td>\n",
       "      <td>3.912</td>\n",
       "      <td>17.0</td>\n",
       "      <td>마포구 공덕동</td>\n",
       "    </tr>\n",
       "    <tr>\n",
       "      <th>175979</th>\n",
       "      <td>마포구</td>\n",
       "      <td>성산동</td>\n",
       "      <td>82.01</td>\n",
       "      <td>2.0</td>\n",
       "      <td>2002.0</td>\n",
       "      <td>560000000</td>\n",
       "      <td>그레이스</td>\n",
       "      <td>25.0</td>\n",
       "      <td>5.6</td>\n",
       "      <td>2.240</td>\n",
       "      <td>19.0</td>\n",
       "      <td>마포구 성산동</td>\n",
       "    </tr>\n",
       "    <tr>\n",
       "      <th>175981</th>\n",
       "      <td>마포구</td>\n",
       "      <td>성산동</td>\n",
       "      <td>84.98</td>\n",
       "      <td>6.0</td>\n",
       "      <td>2006.0</td>\n",
       "      <td>600000000</td>\n",
       "      <td>성산동자담이움아파트</td>\n",
       "      <td>26.0</td>\n",
       "      <td>6.0</td>\n",
       "      <td>2.308</td>\n",
       "      <td>15.0</td>\n",
       "      <td>마포구 성산동</td>\n",
       "    </tr>\n",
       "    <tr>\n",
       "      <th>175994</th>\n",
       "      <td>마포구</td>\n",
       "      <td>아현동</td>\n",
       "      <td>98.88</td>\n",
       "      <td>7.0</td>\n",
       "      <td>1972.0</td>\n",
       "      <td>800000000</td>\n",
       "      <td>혜성</td>\n",
       "      <td>30.0</td>\n",
       "      <td>8.0</td>\n",
       "      <td>2.667</td>\n",
       "      <td>49.0</td>\n",
       "      <td>마포구 아현동</td>\n",
       "    </tr>\n",
       "  </tbody>\n",
       "</table>\n",
       "<p>87372 rows × 12 columns</p>\n",
       "</div>"
      ],
      "text/plain": [
       "       자치구명  법정동명    건물면적  층정보    건축년도        물건금액         건물명    평수  \\\n",
       "2       구로구   구로동   36.90  1.0  1994.0   105000000      궁전아트빌라  11.0   \n",
       "3       용산구   산천동   59.55  2.0  2001.0   830000000       리버힐삼성  18.0   \n",
       "4       용산구   이촌동   64.43  5.0  1971.0   735000000          강변  19.0   \n",
       "5       용산구  이태원동  105.75  9.0  1982.0  1430000000         청화1  32.0   \n",
       "7       용산구   후암동  150.08  4.0  2002.0   875000000     힐튼빌리지2차  45.0   \n",
       "...     ...   ...     ...  ...     ...         ...         ...   ...   \n",
       "175970  마포구   염리동   58.71  4.0  1997.0   626000000          상록  18.0   \n",
       "175977  마포구   공덕동  113.67  4.0  2004.0  1330000000      한화꿈에그린  34.0   \n",
       "175979  마포구   성산동   82.01  2.0  2002.0   560000000        그레이스  25.0   \n",
       "175981  마포구   성산동   84.98  6.0  2006.0   600000000  성산동자담이움아파트  26.0   \n",
       "175994  마포구   아현동   98.88  7.0  1972.0   800000000          혜성  30.0   \n",
       "\n",
       "        물건금액(단위:억)  평당가격(단위:천만)  건물년식       동네명  \n",
       "2              1.0        0.955  27.0   구로구 구로동  \n",
       "3              8.3        4.611  20.0   용산구 산천동  \n",
       "4              7.4        3.868  50.0   용산구 이촌동  \n",
       "5             14.3        4.469  39.0  용산구 이태원동  \n",
       "7              8.8        1.944  19.0   용산구 후암동  \n",
       "...            ...          ...   ...       ...  \n",
       "175970         6.3        3.478  24.0   마포구 염리동  \n",
       "175977        13.3        3.912  17.0   마포구 공덕동  \n",
       "175979         5.6        2.240  19.0   마포구 성산동  \n",
       "175981         6.0        2.308  15.0   마포구 성산동  \n",
       "175994         8.0        2.667  49.0   마포구 아현동  \n",
       "\n",
       "[87372 rows x 12 columns]"
      ]
     },
     "execution_count": 12,
     "metadata": {},
     "output_type": "execute_result"
    }
   ],
   "source": [
    "df"
   ]
  },
  {
   "cell_type": "code",
   "execution_count": 19,
   "metadata": {},
   "outputs": [
    {
     "data": {
      "text/plain": [
       "Index(['자치구명', '법정동명', '건물면적', '층정보', '건축년도', '물건금액', '건물명', '평수',\n",
       "       '물건금액(단위:억)', '평당가격(단위:천만)', '건물년식', '동네명'],\n",
       "      dtype='object')"
      ]
     },
     "execution_count": 19,
     "metadata": {},
     "output_type": "execute_result"
    }
   ],
   "source": [
    "df.columns"
   ]
  },
  {
   "cell_type": "markdown",
   "metadata": {},
   "source": [
    "- 데이터분석을 위해서 df을 X로 재생성 "
   ]
  },
  {
   "cell_type": "code",
   "execution_count": 13,
   "metadata": {
    "scrolled": false
   },
   "outputs": [
    {
     "data": {
      "text/html": [
       "<div>\n",
       "<style scoped>\n",
       "    .dataframe tbody tr th:only-of-type {\n",
       "        vertical-align: middle;\n",
       "    }\n",
       "\n",
       "    .dataframe tbody tr th {\n",
       "        vertical-align: top;\n",
       "    }\n",
       "\n",
       "    .dataframe thead th {\n",
       "        text-align: right;\n",
       "    }\n",
       "</style>\n",
       "<table border=\"1\" class=\"dataframe\">\n",
       "  <thead>\n",
       "    <tr style=\"text-align: right;\">\n",
       "      <th></th>\n",
       "      <th>층정보</th>\n",
       "      <th>평수</th>\n",
       "      <th>물건금액(단위:억)</th>\n",
       "      <th>평당가격(단위:천만)</th>\n",
       "      <th>건물년식</th>\n",
       "      <th>동네명</th>\n",
       "      <th>건물명</th>\n",
       "    </tr>\n",
       "  </thead>\n",
       "  <tbody>\n",
       "    <tr>\n",
       "      <th>2</th>\n",
       "      <td>1.0</td>\n",
       "      <td>11.0</td>\n",
       "      <td>1.0</td>\n",
       "      <td>0.955</td>\n",
       "      <td>27.0</td>\n",
       "      <td>구로구 구로동</td>\n",
       "      <td>궁전아트빌라</td>\n",
       "    </tr>\n",
       "    <tr>\n",
       "      <th>3</th>\n",
       "      <td>2.0</td>\n",
       "      <td>18.0</td>\n",
       "      <td>8.3</td>\n",
       "      <td>4.611</td>\n",
       "      <td>20.0</td>\n",
       "      <td>용산구 산천동</td>\n",
       "      <td>리버힐삼성</td>\n",
       "    </tr>\n",
       "    <tr>\n",
       "      <th>4</th>\n",
       "      <td>5.0</td>\n",
       "      <td>19.0</td>\n",
       "      <td>7.4</td>\n",
       "      <td>3.868</td>\n",
       "      <td>50.0</td>\n",
       "      <td>용산구 이촌동</td>\n",
       "      <td>강변</td>\n",
       "    </tr>\n",
       "    <tr>\n",
       "      <th>5</th>\n",
       "      <td>9.0</td>\n",
       "      <td>32.0</td>\n",
       "      <td>14.3</td>\n",
       "      <td>4.469</td>\n",
       "      <td>39.0</td>\n",
       "      <td>용산구 이태원동</td>\n",
       "      <td>청화1</td>\n",
       "    </tr>\n",
       "    <tr>\n",
       "      <th>7</th>\n",
       "      <td>4.0</td>\n",
       "      <td>45.0</td>\n",
       "      <td>8.8</td>\n",
       "      <td>1.944</td>\n",
       "      <td>19.0</td>\n",
       "      <td>용산구 후암동</td>\n",
       "      <td>힐튼빌리지2차</td>\n",
       "    </tr>\n",
       "    <tr>\n",
       "      <th>...</th>\n",
       "      <td>...</td>\n",
       "      <td>...</td>\n",
       "      <td>...</td>\n",
       "      <td>...</td>\n",
       "      <td>...</td>\n",
       "      <td>...</td>\n",
       "      <td>...</td>\n",
       "    </tr>\n",
       "    <tr>\n",
       "      <th>175970</th>\n",
       "      <td>4.0</td>\n",
       "      <td>18.0</td>\n",
       "      <td>6.3</td>\n",
       "      <td>3.478</td>\n",
       "      <td>24.0</td>\n",
       "      <td>마포구 염리동</td>\n",
       "      <td>상록</td>\n",
       "    </tr>\n",
       "    <tr>\n",
       "      <th>175977</th>\n",
       "      <td>4.0</td>\n",
       "      <td>34.0</td>\n",
       "      <td>13.3</td>\n",
       "      <td>3.912</td>\n",
       "      <td>17.0</td>\n",
       "      <td>마포구 공덕동</td>\n",
       "      <td>한화꿈에그린</td>\n",
       "    </tr>\n",
       "    <tr>\n",
       "      <th>175979</th>\n",
       "      <td>2.0</td>\n",
       "      <td>25.0</td>\n",
       "      <td>5.6</td>\n",
       "      <td>2.240</td>\n",
       "      <td>19.0</td>\n",
       "      <td>마포구 성산동</td>\n",
       "      <td>그레이스</td>\n",
       "    </tr>\n",
       "    <tr>\n",
       "      <th>175981</th>\n",
       "      <td>6.0</td>\n",
       "      <td>26.0</td>\n",
       "      <td>6.0</td>\n",
       "      <td>2.308</td>\n",
       "      <td>15.0</td>\n",
       "      <td>마포구 성산동</td>\n",
       "      <td>성산동자담이움아파트</td>\n",
       "    </tr>\n",
       "    <tr>\n",
       "      <th>175994</th>\n",
       "      <td>7.0</td>\n",
       "      <td>30.0</td>\n",
       "      <td>8.0</td>\n",
       "      <td>2.667</td>\n",
       "      <td>49.0</td>\n",
       "      <td>마포구 아현동</td>\n",
       "      <td>혜성</td>\n",
       "    </tr>\n",
       "  </tbody>\n",
       "</table>\n",
       "<p>87372 rows × 7 columns</p>\n",
       "</div>"
      ],
      "text/plain": [
       "        층정보    평수  물건금액(단위:억)  평당가격(단위:천만)  건물년식       동네명         건물명\n",
       "2       1.0  11.0         1.0        0.955  27.0   구로구 구로동      궁전아트빌라\n",
       "3       2.0  18.0         8.3        4.611  20.0   용산구 산천동       리버힐삼성\n",
       "4       5.0  19.0         7.4        3.868  50.0   용산구 이촌동          강변\n",
       "5       9.0  32.0        14.3        4.469  39.0  용산구 이태원동         청화1\n",
       "7       4.0  45.0         8.8        1.944  19.0   용산구 후암동     힐튼빌리지2차\n",
       "...     ...   ...         ...          ...   ...       ...         ...\n",
       "175970  4.0  18.0         6.3        3.478  24.0   마포구 염리동          상록\n",
       "175977  4.0  34.0        13.3        3.912  17.0   마포구 공덕동      한화꿈에그린\n",
       "175979  2.0  25.0         5.6        2.240  19.0   마포구 성산동        그레이스\n",
       "175981  6.0  26.0         6.0        2.308  15.0   마포구 성산동  성산동자담이움아파트\n",
       "175994  7.0  30.0         8.0        2.667  49.0   마포구 아현동          혜성\n",
       "\n",
       "[87372 rows x 7 columns]"
      ]
     },
     "execution_count": 13,
     "metadata": {},
     "output_type": "execute_result"
    }
   ],
   "source": [
    "X=df[['층정보', '평수','물건금액(단위:억)', '평당가격(단위:천만)', '건물년식', '동네명','건물명']]\n",
    "X"
   ]
  },
  {
   "cell_type": "markdown",
   "metadata": {},
   "source": [
    "- 상관관계를 알아봄"
   ]
  },
  {
   "cell_type": "code",
   "execution_count": 21,
   "metadata": {},
   "outputs": [
    {
     "name": "stdout",
     "output_type": "stream",
     "text": [
      "평수 and 물건금액(단위:억) : 0.6\n",
      "물건금액(단위:억) and 평수 : 0.6\n",
      "물건금액(단위:억) and 평당가격(단위:천만) : 0.74\n",
      "평당가격(단위:천만) and 물건금액(단위:억) : 0.74\n"
     ]
    }
   ],
   "source": [
    "#상관관계\n",
    "corr = X.corr()\n",
    "corr_list=[]\n",
    "for i in range(0, len(corr.index)):\n",
    "    for j in range(0, len(corr.columns)):\n",
    "        if ((corr.iloc[i,j] > 0.5 or corr.iloc[i,j] < -0.5) and corr.iloc[i,j] != 1):\n",
    "            corr_list.append(str(corr.index[i] + ' and ' + corr.columns[j] + ' : ' + str(round(corr.iloc[i,j], 2))))\n",
    "corr_list = '\\n'.join(corr_list)\n",
    "print(corr_list)"
   ]
  },
  {
   "cell_type": "code",
   "execution_count": 22,
   "metadata": {
    "scrolled": false
   },
   "outputs": [
    {
     "name": "stdout",
     "output_type": "stream",
     "text": [
      "<class 'pandas.core.frame.DataFrame'>\n",
      "Int64Index: 87372 entries, 2 to 175994\n",
      "Data columns (total 7 columns):\n",
      " #   Column       Non-Null Count  Dtype  \n",
      "---  ------       --------------  -----  \n",
      " 0   층정보          87372 non-null  float64\n",
      " 1   평수           87372 non-null  float64\n",
      " 2   물건금액(단위:억)   87372 non-null  float64\n",
      " 3   평당가격(단위:천만)  87372 non-null  float64\n",
      " 4   건물년식         87372 non-null  float64\n",
      " 5   동네명          87372 non-null  object \n",
      " 6   건물명          87372 non-null  object \n",
      "dtypes: float64(5), object(2)\n",
      "memory usage: 5.3+ MB\n"
     ]
    }
   ],
   "source": [
    "X.info()"
   ]
  },
  {
   "cell_type": "code",
   "execution_count": 14,
   "metadata": {},
   "outputs": [
    {
     "name": "stdout",
     "output_type": "stream",
     "text": [
      "Categorical columns           : ['동네명', '건물명']\n",
      "Categorical columns position  : [5, 6]\n"
     ]
    }
   ],
   "source": [
    "# Get the position of categorical columns\n",
    "catColumnsPos = [X.columns.get_loc(col) for col in list(X.select_dtypes('object').columns)]\n",
    "print('Categorical columns           : {}'.format(list(X.select_dtypes('object').columns)))\n",
    "print('Categorical columns position  : {}'.format(catColumnsPos))"
   ]
  },
  {
   "cell_type": "code",
   "execution_count": 15,
   "metadata": {},
   "outputs": [
    {
     "data": {
      "text/plain": [
       "array([[1.0, 11.0, 1.0, ..., 27.0, '구로구 구로동', '궁전아트빌라'],\n",
       "       [2.0, 18.0, 8.3, ..., 20.0, '용산구 산천동', '리버힐삼성'],\n",
       "       [5.0, 19.0, 7.4, ..., 50.0, '용산구 이촌동', '강변'],\n",
       "       ...,\n",
       "       [2.0, 25.0, 5.6, ..., 19.0, '마포구 성산동', '그레이스'],\n",
       "       [6.0, 26.0, 6.0, ..., 15.0, '마포구 성산동', '성산동자담이움아파트'],\n",
       "       [7.0, 30.0, 8.0, ..., 49.0, '마포구 아현동', '혜성']], dtype=object)"
      ]
     },
     "execution_count": 15,
     "metadata": {},
     "output_type": "execute_result"
    }
   ],
   "source": [
    "# Convert dataframe to matrix\n",
    "dfMatrix = X.to_numpy()\n",
    "dfMatrix"
   ]
  },
  {
   "cell_type": "code",
   "execution_count": 16,
   "metadata": {},
   "outputs": [],
   "source": [
    "import numpy as np\n",
    "import plotnine as p9\n",
    "import matplotlib.pyplot as plt"
   ]
  },
  {
   "cell_type": "code",
   "execution_count": 17,
   "metadata": {},
   "outputs": [],
   "source": [
    "from kmodes.kprototypes import KPrototypes"
   ]
  },
  {
   "cell_type": "markdown",
   "metadata": {},
   "source": [
    "# kprototypes 클러스터링을 위해서 적절한 군집개수를 찾기위해 Elbow method 사용"
   ]
  },
  {
   "cell_type": "code",
   "execution_count": 27,
   "metadata": {},
   "outputs": [
    {
     "name": "stdout",
     "output_type": "stream",
     "text": [
      "Cluster initiation: 1\n",
      "Cluster initiation: 2\n",
      "Cluster initiation: 3\n",
      "Cluster initiation: 4\n",
      "Cluster initiation: 5\n",
      "Cluster initiation: 6\n",
      "Cluster initiation: 7\n",
      "Cluster initiation: 8\n",
      "Cluster initiation: 9\n",
      "Cluster initiation: 10\n",
      "Cluster initiation: 11\n",
      "Cluster initiation: 12\n",
      "Cluster initiation: 13\n",
      "Cluster initiation: 14\n",
      "Cluster initiation: 15\n",
      "Cluster initiation: 16\n",
      "Cluster initiation: 17\n",
      "Cluster initiation: 18\n",
      "Cluster initiation: 19\n"
     ]
    },
    {
     "ename": "NameError",
     "evalue": "name 'ggplot' is not defined",
     "output_type": "error",
     "traceback": [
      "\u001b[1;31m---------------------------------------------------------------------------\u001b[0m",
      "\u001b[1;31mNameError\u001b[0m                                 Traceback (most recent call last)",
      "\u001b[1;32mC:\\Users\\LEE_JI~1\\AppData\\Local\\Temp/ipykernel_19388/4262326993.py\u001b[0m in \u001b[0;36m<module>\u001b[1;34m\u001b[0m\n\u001b[0;32m     14\u001b[0m \u001b[0mp9\u001b[0m\u001b[1;33m.\u001b[0m\u001b[0moptions\u001b[0m\u001b[1;33m.\u001b[0m\u001b[0mfigure_size\u001b[0m \u001b[1;33m=\u001b[0m \u001b[1;33m(\u001b[0m\u001b[1;36m8\u001b[0m\u001b[1;33m,\u001b[0m \u001b[1;36m4.8\u001b[0m\u001b[1;33m)\u001b[0m\u001b[1;33m\u001b[0m\u001b[1;33m\u001b[0m\u001b[0m\n\u001b[0;32m     15\u001b[0m (\n\u001b[1;32m---> 16\u001b[1;33m     \u001b[0mggplot\u001b[0m\u001b[1;33m(\u001b[0m\u001b[0mdata\u001b[0m \u001b[1;33m=\u001b[0m \u001b[0mdf_cost\u001b[0m\u001b[1;33m)\u001b[0m\u001b[1;33m+\u001b[0m\u001b[1;33m\u001b[0m\u001b[1;33m\u001b[0m\u001b[0m\n\u001b[0m\u001b[0;32m     17\u001b[0m     geom_line(aes(x = 'Cluster',\n\u001b[0;32m     18\u001b[0m                   y = 'Cost'))+\n",
      "\u001b[1;31mNameError\u001b[0m: name 'ggplot' is not defined"
     ]
    }
   ],
   "source": [
    "# Choose optimal K using Elbow method 12시55분? ㄱ 59분 2 2시48분 9 7시끝\n",
    "cost = []\n",
    "for cluster in range(1, 20):\n",
    "    try:\n",
    "        kprototype = KPrototypes(n_jobs = -1, n_clusters = cluster, init = 'Huang', random_state = 0)\n",
    "        kprototype.fit_predict(dfMatrix, categorical = catColumnsPos)\n",
    "        cost.append(kprototype.cost_)\n",
    "        print('Cluster initiation: {}'.format(cluster))\n",
    "    except:\n",
    "        break\n"
   ]
  },
  {
   "cell_type": "code",
   "execution_count": 37,
   "metadata": {},
   "outputs": [
    {
     "data": {
      "image/png": "[encoded data removed]",
      "text/plain": [
       "<Figure size 800x480 with 1 Axes>"
      ]
     },
     "metadata": {
      "needs_background": "light"
     },
     "output_type": "display_data"
    },
    {
     "data": {
      "text/plain": [
       "<ggplot: (114012861648)>"
      ]
     },
     "execution_count": 37,
     "metadata": {},
     "output_type": "execute_result"
    }
   ],
   "source": [
    "# Converting the results into a dataframe and plotting them\n",
    "df_cost = pd.DataFrame({'Cluster':range(1, 20), 'Cost':cost})\n",
    "# Data viz\n",
    "p9.options.figure_size = (8, 4.8)\n",
    "(\n",
    "    p9.ggplot(data = df_cost)+\n",
    "    p9.geom_line(p9.aes(x = 'Cluster',\n",
    "                  y = 'Cost'))+\n",
    "    p9.geom_point(p9.aes(x = 'Cluster',\n",
    "                   y = 'Cost'))+\n",
    "    p9.geom_label(p9.aes(x = 'Cluster',\n",
    "                   y = 'Cost',\n",
    "                   label = 'Cluster'),\n",
    "               size = 10,\n",
    "               nudge_y = 1000) +\n",
    "    p9.labs(title = 'Optimal number of cluster with Elbow Method')+\n",
    "    p9.xlab('Number of Clusters k')+\n",
    "    p9.ylab('Cost')+\n",
    "    p9.theme_minimal()\n",
    ")"
   ]
  },
  {
   "cell_type": "code",
   "execution_count": 28,
   "metadata": {
    "scrolled": true
   },
   "outputs": [
    {
     "name": "stdout",
     "output_type": "stream",
     "text": [
      "19\n"
     ]
    }
   ],
   "source": [
    "print(len(cost))"
   ]
  },
  {
   "cell_type": "code",
   "execution_count": 38,
   "metadata": {},
   "outputs": [
    {
     "data": {
      "image/png": "[encoded data removed]",
      "text/plain": [
       "<Figure size 432x288 with 1 Axes>"
      ]
     },
     "metadata": {
      "needs_background": "light"
     },
     "output_type": "display_data"
    }
   ],
   "source": [
    "plt.plot(range(1,20),df_cost, marker='o')\n",
    "plt.xlabel('Number of clusters')\n",
    "plt.ylabel('df_cost')\n",
    "plt.show()"
   ]
  },
  {
   "cell_type": "markdown",
   "metadata": {},
   "source": [
    "# 적절한 군집을 주관적으로 판단하여 3개로 진행"
   ]
  },
  {
   "cell_type": "code",
   "execution_count": 18,
   "metadata": {},
   "outputs": [
    {
     "data": {
      "text/plain": [
       "array([2, 2, 2, ..., 1, 1, 2], dtype=uint16)"
      ]
     },
     "execution_count": 18,
     "metadata": {},
     "output_type": "execute_result"
    }
   ],
   "source": [
    "# Fit the cluster\n",
    "kprototype = KPrototypes(n_jobs = -1, n_clusters = 3, init = 'Huang', random_state = 0)\n",
    "kprototype.fit_predict(dfMatrix, categorical = catColumnsPos)"
   ]
  },
  {
   "cell_type": "code",
   "execution_count": 19,
   "metadata": {},
   "outputs": [
    {
     "name": "stdout",
     "output_type": "stream",
     "text": [
      "[['10.727154787967242' '39.331549501337875' '14.3876672342494'\n",
      "  '3.644661071920835' '20.497932376550718' '서초구 서초동' '삼성래미안']\n",
      " ['9.740321890706877' '21.525532028660038' '8.140051866110529'\n",
      "  '3.817165650732587' '12.7191476847396' '강북구 미아동' '에스케이북한산시티']\n",
      " ['7.791523847482397' '19.512900225853592' '6.571226252158777'\n",
      "  '3.3725598777733032' '28.25874850538063' '노원구 상계동' '한신']]\n",
      "14\n",
      "13154045.292556077\n"
     ]
    }
   ],
   "source": [
    "# Cluster centorid\n",
    "print(kprototype.cluster_centroids_)\n",
    "# Check the iteration of the clusters created\n",
    "print(kprototype.n_iter_)\n",
    "# Check the cost of the clusters created\n",
    "print(kprototype.cost_)"
   ]
  },
  {
   "cell_type": "markdown",
   "metadata": {},
   "source": [
    "# 군집을 One, Two, Three로 구분"
   ]
  },
  {
   "cell_type": "code",
   "execution_count": 20,
   "metadata": {},
   "outputs": [],
   "source": [
    "# Add the cluster to the dataframe\n",
    "df['Cluster Labels'] = kprototype.labels_\n",
    "df['Segment'] = df['Cluster Labels'].map({0:'One', 1:'Two', 2:'Three'})\n",
    "# Order the cluster\n",
    "df['Segment'] = df['Segment'].astype('category')\n",
    "df['Segment'] = df['Segment'].cat.reorder_categories(['One','Two','Three'])"
   ]
  },
  {
   "cell_type": "code",
   "execution_count": 21,
   "metadata": {
    "scrolled": false
   },
   "outputs": [
    {
     "data": {
      "text/html": [
       "<div>\n",
       "<style scoped>\n",
       "    .dataframe tbody tr th:only-of-type {\n",
       "        vertical-align: middle;\n",
       "    }\n",
       "\n",
       "    .dataframe tbody tr th {\n",
       "        vertical-align: top;\n",
       "    }\n",
       "\n",
       "    .dataframe thead th {\n",
       "        text-align: right;\n",
       "    }\n",
       "</style>\n",
       "<table border=\"1\" class=\"dataframe\">\n",
       "  <thead>\n",
       "    <tr style=\"text-align: right;\">\n",
       "      <th></th>\n",
       "      <th>자치구명</th>\n",
       "      <th>법정동명</th>\n",
       "      <th>건물면적</th>\n",
       "      <th>층정보</th>\n",
       "      <th>건축년도</th>\n",
       "      <th>물건금액</th>\n",
       "      <th>건물명</th>\n",
       "      <th>평수</th>\n",
       "      <th>물건금액(단위:억)</th>\n",
       "      <th>평당가격(단위:천만)</th>\n",
       "      <th>건물년식</th>\n",
       "      <th>동네명</th>\n",
       "      <th>Cluster Labels</th>\n",
       "      <th>Segment</th>\n",
       "    </tr>\n",
       "  </thead>\n",
       "  <tbody>\n",
       "    <tr>\n",
       "      <th>2</th>\n",
       "      <td>구로구</td>\n",
       "      <td>구로동</td>\n",
       "      <td>36.90</td>\n",
       "      <td>1.0</td>\n",
       "      <td>1994.0</td>\n",
       "      <td>105000000</td>\n",
       "      <td>궁전아트빌라</td>\n",
       "      <td>11.0</td>\n",
       "      <td>1.0</td>\n",
       "      <td>0.955</td>\n",
       "      <td>27.0</td>\n",
       "      <td>구로구 구로동</td>\n",
       "      <td>2</td>\n",
       "      <td>Three</td>\n",
       "    </tr>\n",
       "    <tr>\n",
       "      <th>3</th>\n",
       "      <td>용산구</td>\n",
       "      <td>산천동</td>\n",
       "      <td>59.55</td>\n",
       "      <td>2.0</td>\n",
       "      <td>2001.0</td>\n",
       "      <td>830000000</td>\n",
       "      <td>리버힐삼성</td>\n",
       "      <td>18.0</td>\n",
       "      <td>8.3</td>\n",
       "      <td>4.611</td>\n",
       "      <td>20.0</td>\n",
       "      <td>용산구 산천동</td>\n",
       "      <td>2</td>\n",
       "      <td>Three</td>\n",
       "    </tr>\n",
       "    <tr>\n",
       "      <th>4</th>\n",
       "      <td>용산구</td>\n",
       "      <td>이촌동</td>\n",
       "      <td>64.43</td>\n",
       "      <td>5.0</td>\n",
       "      <td>1971.0</td>\n",
       "      <td>735000000</td>\n",
       "      <td>강변</td>\n",
       "      <td>19.0</td>\n",
       "      <td>7.4</td>\n",
       "      <td>3.868</td>\n",
       "      <td>50.0</td>\n",
       "      <td>용산구 이촌동</td>\n",
       "      <td>2</td>\n",
       "      <td>Three</td>\n",
       "    </tr>\n",
       "    <tr>\n",
       "      <th>5</th>\n",
       "      <td>용산구</td>\n",
       "      <td>이태원동</td>\n",
       "      <td>105.75</td>\n",
       "      <td>9.0</td>\n",
       "      <td>1982.0</td>\n",
       "      <td>1430000000</td>\n",
       "      <td>청화1</td>\n",
       "      <td>32.0</td>\n",
       "      <td>14.3</td>\n",
       "      <td>4.469</td>\n",
       "      <td>39.0</td>\n",
       "      <td>용산구 이태원동</td>\n",
       "      <td>2</td>\n",
       "      <td>Three</td>\n",
       "    </tr>\n",
       "    <tr>\n",
       "      <th>7</th>\n",
       "      <td>용산구</td>\n",
       "      <td>후암동</td>\n",
       "      <td>150.08</td>\n",
       "      <td>4.0</td>\n",
       "      <td>2002.0</td>\n",
       "      <td>875000000</td>\n",
       "      <td>힐튼빌리지2차</td>\n",
       "      <td>45.0</td>\n",
       "      <td>8.8</td>\n",
       "      <td>1.944</td>\n",
       "      <td>19.0</td>\n",
       "      <td>용산구 후암동</td>\n",
       "      <td>0</td>\n",
       "      <td>One</td>\n",
       "    </tr>\n",
       "    <tr>\n",
       "      <th>...</th>\n",
       "      <td>...</td>\n",
       "      <td>...</td>\n",
       "      <td>...</td>\n",
       "      <td>...</td>\n",
       "      <td>...</td>\n",
       "      <td>...</td>\n",
       "      <td>...</td>\n",
       "      <td>...</td>\n",
       "      <td>...</td>\n",
       "      <td>...</td>\n",
       "      <td>...</td>\n",
       "      <td>...</td>\n",
       "      <td>...</td>\n",
       "      <td>...</td>\n",
       "    </tr>\n",
       "    <tr>\n",
       "      <th>175970</th>\n",
       "      <td>마포구</td>\n",
       "      <td>염리동</td>\n",
       "      <td>58.71</td>\n",
       "      <td>4.0</td>\n",
       "      <td>1997.0</td>\n",
       "      <td>626000000</td>\n",
       "      <td>상록</td>\n",
       "      <td>18.0</td>\n",
       "      <td>6.3</td>\n",
       "      <td>3.478</td>\n",
       "      <td>24.0</td>\n",
       "      <td>마포구 염리동</td>\n",
       "      <td>2</td>\n",
       "      <td>Three</td>\n",
       "    </tr>\n",
       "    <tr>\n",
       "      <th>175977</th>\n",
       "      <td>마포구</td>\n",
       "      <td>공덕동</td>\n",
       "      <td>113.67</td>\n",
       "      <td>4.0</td>\n",
       "      <td>2004.0</td>\n",
       "      <td>1330000000</td>\n",
       "      <td>한화꿈에그린</td>\n",
       "      <td>34.0</td>\n",
       "      <td>13.3</td>\n",
       "      <td>3.912</td>\n",
       "      <td>17.0</td>\n",
       "      <td>마포구 공덕동</td>\n",
       "      <td>0</td>\n",
       "      <td>One</td>\n",
       "    </tr>\n",
       "    <tr>\n",
       "      <th>175979</th>\n",
       "      <td>마포구</td>\n",
       "      <td>성산동</td>\n",
       "      <td>82.01</td>\n",
       "      <td>2.0</td>\n",
       "      <td>2002.0</td>\n",
       "      <td>560000000</td>\n",
       "      <td>그레이스</td>\n",
       "      <td>25.0</td>\n",
       "      <td>5.6</td>\n",
       "      <td>2.240</td>\n",
       "      <td>19.0</td>\n",
       "      <td>마포구 성산동</td>\n",
       "      <td>1</td>\n",
       "      <td>Two</td>\n",
       "    </tr>\n",
       "    <tr>\n",
       "      <th>175981</th>\n",
       "      <td>마포구</td>\n",
       "      <td>성산동</td>\n",
       "      <td>84.98</td>\n",
       "      <td>6.0</td>\n",
       "      <td>2006.0</td>\n",
       "      <td>600000000</td>\n",
       "      <td>성산동자담이움아파트</td>\n",
       "      <td>26.0</td>\n",
       "      <td>6.0</td>\n",
       "      <td>2.308</td>\n",
       "      <td>15.0</td>\n",
       "      <td>마포구 성산동</td>\n",
       "      <td>1</td>\n",
       "      <td>Two</td>\n",
       "    </tr>\n",
       "    <tr>\n",
       "      <th>175994</th>\n",
       "      <td>마포구</td>\n",
       "      <td>아현동</td>\n",
       "      <td>98.88</td>\n",
       "      <td>7.0</td>\n",
       "      <td>1972.0</td>\n",
       "      <td>800000000</td>\n",
       "      <td>혜성</td>\n",
       "      <td>30.0</td>\n",
       "      <td>8.0</td>\n",
       "      <td>2.667</td>\n",
       "      <td>49.0</td>\n",
       "      <td>마포구 아현동</td>\n",
       "      <td>2</td>\n",
       "      <td>Three</td>\n",
       "    </tr>\n",
       "  </tbody>\n",
       "</table>\n",
       "<p>87372 rows × 14 columns</p>\n",
       "</div>"
      ],
      "text/plain": [
       "       자치구명  법정동명    건물면적  층정보    건축년도        물건금액         건물명    평수  \\\n",
       "2       구로구   구로동   36.90  1.0  1994.0   105000000      궁전아트빌라  11.0   \n",
       "3       용산구   산천동   59.55  2.0  2001.0   830000000       리버힐삼성  18.0   \n",
       "4       용산구   이촌동   64.43  5.0  1971.0   735000000          강변  19.0   \n",
       "5       용산구  이태원동  105.75  9.0  1982.0  1430000000         청화1  32.0   \n",
       "7       용산구   후암동  150.08  4.0  2002.0   875000000     힐튼빌리지2차  45.0   \n",
       "...     ...   ...     ...  ...     ...         ...         ...   ...   \n",
       "175970  마포구   염리동   58.71  4.0  1997.0   626000000          상록  18.0   \n",
       "175977  마포구   공덕동  113.67  4.0  2004.0  1330000000      한화꿈에그린  34.0   \n",
       "175979  마포구   성산동   82.01  2.0  2002.0   560000000        그레이스  25.0   \n",
       "175981  마포구   성산동   84.98  6.0  2006.0   600000000  성산동자담이움아파트  26.0   \n",
       "175994  마포구   아현동   98.88  7.0  1972.0   800000000          혜성  30.0   \n",
       "\n",
       "        물건금액(단위:억)  평당가격(단위:천만)  건물년식       동네명  Cluster Labels Segment  \n",
       "2              1.0        0.955  27.0   구로구 구로동               2   Three  \n",
       "3              8.3        4.611  20.0   용산구 산천동               2   Three  \n",
       "4              7.4        3.868  50.0   용산구 이촌동               2   Three  \n",
       "5             14.3        4.469  39.0  용산구 이태원동               2   Three  \n",
       "7              8.8        1.944  19.0   용산구 후암동               0     One  \n",
       "...            ...          ...   ...       ...             ...     ...  \n",
       "175970         6.3        3.478  24.0   마포구 염리동               2   Three  \n",
       "175977        13.3        3.912  17.0   마포구 공덕동               0     One  \n",
       "175979         5.6        2.240  19.0   마포구 성산동               1     Two  \n",
       "175981         6.0        2.308  15.0   마포구 성산동               1     Two  \n",
       "175994         8.0        2.667  49.0   마포구 아현동               2   Three  \n",
       "\n",
       "[87372 rows x 14 columns]"
      ]
     },
     "execution_count": 21,
     "metadata": {},
     "output_type": "execute_result"
    }
   ],
   "source": [
    "df"
   ]
  },
  {
   "cell_type": "code",
   "execution_count": 22,
   "metadata": {},
   "outputs": [
    {
     "name": "stdout",
     "output_type": "stream",
     "text": [
      "<class 'pandas.core.frame.DataFrame'>\n",
      "Int64Index: 87372 entries, 2 to 175994\n",
      "Data columns (total 14 columns):\n",
      " #   Column          Non-Null Count  Dtype   \n",
      "---  ------          --------------  -----   \n",
      " 0   자치구명            87372 non-null  object  \n",
      " 1   법정동명            87372 non-null  object  \n",
      " 2   건물면적            87372 non-null  float64 \n",
      " 3   층정보             87372 non-null  float64 \n",
      " 4   건축년도            87372 non-null  float64 \n",
      " 5   물건금액            87372 non-null  int64   \n",
      " 6   건물명             87372 non-null  object  \n",
      " 7   평수              87372 non-null  float64 \n",
      " 8   물건금액(단위:억)      87372 non-null  float64 \n",
      " 9   평당가격(단위:천만)     87372 non-null  float64 \n",
      " 10  건물년식            87372 non-null  float64 \n",
      " 11  동네명             87372 non-null  object  \n",
      " 12  Cluster Labels  87372 non-null  uint16  \n",
      " 13  Segment         87372 non-null  category\n",
      "dtypes: category(1), float64(7), int64(1), object(4), uint16(1)\n",
      "memory usage: 8.9+ MB\n"
     ]
    }
   ],
   "source": [
    "df.info()"
   ]
  },
  {
   "cell_type": "code",
   "execution_count": 23,
   "metadata": {
    "scrolled": true
   },
   "outputs": [
    {
     "data": {
      "text/html": [
       "<div>\n",
       "<style scoped>\n",
       "    .dataframe tbody tr th:only-of-type {\n",
       "        vertical-align: middle;\n",
       "    }\n",
       "\n",
       "    .dataframe tbody tr th {\n",
       "        vertical-align: top;\n",
       "    }\n",
       "\n",
       "    .dataframe thead th {\n",
       "        text-align: right;\n",
       "    }\n",
       "</style>\n",
       "<table border=\"1\" class=\"dataframe\">\n",
       "  <thead>\n",
       "    <tr style=\"text-align: right;\">\n",
       "      <th></th>\n",
       "      <th>Segment</th>\n",
       "      <th>Total</th>\n",
       "      <th>동네명</th>\n",
       "      <th>건물명</th>\n",
       "      <th>층정보</th>\n",
       "      <th>평수</th>\n",
       "      <th>물건금액(단위:억)</th>\n",
       "      <th>평당가격(단위:천만)</th>\n",
       "      <th>건물년식</th>\n",
       "    </tr>\n",
       "  </thead>\n",
       "  <tbody>\n",
       "    <tr>\n",
       "      <th>0</th>\n",
       "      <td>One</td>\n",
       "      <td>12333</td>\n",
       "      <td>서초구 서초동</td>\n",
       "      <td>삼성래미안</td>\n",
       "      <td>10.727155</td>\n",
       "      <td>39.331550</td>\n",
       "      <td>14.387667</td>\n",
       "      <td>3.644661</td>\n",
       "      <td>20.497932</td>\n",
       "    </tr>\n",
       "    <tr>\n",
       "      <th>1</th>\n",
       "      <td>Two</td>\n",
       "      <td>37404</td>\n",
       "      <td>강북구 미아동</td>\n",
       "      <td>에스케이북한산시티</td>\n",
       "      <td>9.740322</td>\n",
       "      <td>21.525532</td>\n",
       "      <td>8.140052</td>\n",
       "      <td>3.817166</td>\n",
       "      <td>12.719148</td>\n",
       "    </tr>\n",
       "    <tr>\n",
       "      <th>2</th>\n",
       "      <td>Three</td>\n",
       "      <td>37635</td>\n",
       "      <td>노원구 상계동</td>\n",
       "      <td>한신</td>\n",
       "      <td>7.791524</td>\n",
       "      <td>19.512900</td>\n",
       "      <td>6.571226</td>\n",
       "      <td>3.372560</td>\n",
       "      <td>28.258749</td>\n",
       "    </tr>\n",
       "  </tbody>\n",
       "</table>\n",
       "</div>"
      ],
      "text/plain": [
       "  Segment  Total      동네명        건물명        층정보         평수  물건금액(단위:억)  \\\n",
       "0     One  12333  서초구 서초동      삼성래미안  10.727155  39.331550   14.387667   \n",
       "1     Two  37404  강북구 미아동  에스케이북한산시티   9.740322  21.525532    8.140052   \n",
       "2   Three  37635  노원구 상계동         한신   7.791524  19.512900    6.571226   \n",
       "\n",
       "   평당가격(단위:천만)       건물년식  \n",
       "0     3.644661  20.497932  \n",
       "1     3.817166  12.719148  \n",
       "2     3.372560  28.258749  "
      ]
     },
     "execution_count": 23,
     "metadata": {},
     "output_type": "execute_result"
    }
   ],
   "source": [
    "# Cluster interpretation\n",
    "Y=df.rename(columns = {'Cluster Labels':'Total'}, inplace = True)\n",
    "Y=df.groupby('Segment').agg(\n",
    "    {\n",
    "        'Total':'count',\n",
    "        '동네명': lambda x: x.value_counts().index[0],\n",
    "        '건물명': lambda x: x.value_counts().index[0],\n",
    "        '층정보': 'mean',\n",
    "        '평수': 'mean',\n",
    "        '물건금액(단위:억)': 'mean',\n",
    "        '평당가격(단위:천만)': 'mean',\n",
    "        '건물년식': 'mean'\n",
    "    }\n",
    ").reset_index()\n",
    "Y"
   ]
  },
  {
   "cell_type": "code",
   "execution_count": 24,
   "metadata": {},
   "outputs": [],
   "source": [
    "from math import pi\n",
    "from matplotlib.path import Path\n",
    "from matplotlib.spines import Spine\n",
    "from matplotlib.transforms import Affine2D"
   ]
  },
  {
   "cell_type": "code",
   "execution_count": 25,
   "metadata": {},
   "outputs": [
    {
     "data": {
      "text/plain": [
       "Index(['Segment', 'Total', '동네명', '건물명', '층정보', '평수', '물건금액(단위:억)',\n",
       "       '평당가격(단위:천만)', '건물년식'],\n",
       "      dtype='object')"
      ]
     },
     "execution_count": 25,
     "metadata": {},
     "output_type": "execute_result"
    }
   ],
   "source": [
    "Y.columns"
   ]
  },
  {
   "cell_type": "markdown",
   "metadata": {},
   "source": [
    "# 평수, 층정보, 건물년식, 물건금액의 변수들을 5개 범주로 나누었음.\n",
    "## qcut을 사용하였고, 평수는 qcut이 3개로 나눠지기때문에 수동적으로 나누었음."
   ]
  },
  {
   "cell_type": "code",
   "execution_count": 248,
   "metadata": {},
   "outputs": [
    {
     "data": {
      "text/plain": [
       "[0, 10, 20, 30, 40, 50, 60, 70, 80, 90, 100]"
      ]
     },
     "execution_count": 248,
     "metadata": {},
     "output_type": "execute_result"
    }
   ],
   "source": [
    "#평수\n",
    "bins = list(range(0, 101, 10)) #구간\n",
    "bins"
   ]
  },
  {
   "cell_type": "code",
   "execution_count": 249,
   "metadata": {},
   "outputs": [],
   "source": [
    "bins_label = [str(x)+\"이상 \"+str(x+10)+\"미만\" for x in bins]\n",
    "df[\"평수level\"] = pd.cut(df[\"평수\"], bins, right=False, labels=bins_label[:-1])"
   ]
  },
  {
   "cell_type": "code",
   "execution_count": 253,
   "metadata": {
    "scrolled": false
   },
   "outputs": [
    {
     "data": {
      "text/plain": [
       "[0, 2, 3, 1, 4]\n",
       "Categories (5, int64): [0, 1, 2, 3, 4]"
      ]
     },
     "execution_count": 253,
     "metadata": {},
     "output_type": "execute_result"
    }
   ],
   "source": [
    "df[\"평수level\"].unique()"
   ]
  },
  {
   "cell_type": "code",
   "execution_count": 251,
   "metadata": {},
   "outputs": [],
   "source": [
    "df['평수level'].replace('50이상 60미만','50이상 100미만', inplace = True)\n",
    "df['평수level'].replace('60이상 70미만','50이상 100미만', inplace = True)\n",
    "df['평수level'].replace('70이상 80미만','50이상 100미만', inplace = True)\n",
    "df['평수level'].replace('80이상 90미만','50이상 100미만', inplace = True)\n",
    "df['평수level'].replace('90이상 100미만','50이상 100미만', inplace = True)\n",
    "df['평수level'].replace('90이상 100미만','50이상 100미만', inplace = True)\n",
    "df['평수level'].replace('10이상 20미만','0이상 20미만', inplace = True)\n",
    "df['평수level'].replace('0이상 10미만','0이상 20미만', inplace = True)\n",
    "\n",
    "df['평수level']=df['평수level'].replace(['0이상 20미만', '20이상 30미만', '30이상 40미만', '40이상 50미만', '50이상 100미만'],\n",
    "                     [0,1,2,3,4]).astype('category')\n",
    "#df['평수level'] = {'0이상 20미만': 0, '20이상 30미만': 1, '30이상 40미만': 2, '40이상 50미만': 3, '50이상 100미만': 4}"
   ]
  },
  {
   "cell_type": "code",
   "execution_count": 252,
   "metadata": {
    "scrolled": false
   },
   "outputs": [
    {
     "data": {
      "text/plain": [
       "<seaborn.axisgrid.FacetGrid at 0x2045ca9bdf0>"
      ]
     },
     "execution_count": 252,
     "metadata": {},
     "output_type": "execute_result"
    },
    {
     "data": {
      "image/png": "[encoded data removed]",
      "text/plain": [
       "<Figure size 409.25x360 with 1 Axes>"
      ]
     },
     "metadata": {
      "needs_background": "light"
     },
     "output_type": "display_data"
    }
   ],
   "source": [
    "sns.displot(df, x='평수', hue='평수level', element='step')"
   ]
  },
  {
   "cell_type": "code",
   "execution_count": 31,
   "metadata": {
    "collapsed": true
   },
   "outputs": [
    {
     "data": {
      "text/html": [
       "<div>\n",
       "<style scoped>\n",
       "    .dataframe tbody tr th:only-of-type {\n",
       "        vertical-align: middle;\n",
       "    }\n",
       "\n",
       "    .dataframe tbody tr th {\n",
       "        vertical-align: top;\n",
       "    }\n",
       "\n",
       "    .dataframe thead th {\n",
       "        text-align: right;\n",
       "    }\n",
       "</style>\n",
       "<table border=\"1\" class=\"dataframe\">\n",
       "  <thead>\n",
       "    <tr style=\"text-align: right;\">\n",
       "      <th></th>\n",
       "      <th>층정보</th>\n",
       "      <th>층정보level</th>\n",
       "    </tr>\n",
       "  </thead>\n",
       "  <tbody>\n",
       "    <tr>\n",
       "      <th>2</th>\n",
       "      <td>1.0</td>\n",
       "      <td>0</td>\n",
       "    </tr>\n",
       "    <tr>\n",
       "      <th>3</th>\n",
       "      <td>2.0</td>\n",
       "      <td>0</td>\n",
       "    </tr>\n",
       "    <tr>\n",
       "      <th>4</th>\n",
       "      <td>5.0</td>\n",
       "      <td>1</td>\n",
       "    </tr>\n",
       "    <tr>\n",
       "      <th>5</th>\n",
       "      <td>9.0</td>\n",
       "      <td>2</td>\n",
       "    </tr>\n",
       "    <tr>\n",
       "      <th>7</th>\n",
       "      <td>4.0</td>\n",
       "      <td>0</td>\n",
       "    </tr>\n",
       "  </tbody>\n",
       "</table>\n",
       "</div>"
      ],
      "text/plain": [
       "   층정보 층정보level\n",
       "2  1.0        0\n",
       "3  2.0        0\n",
       "4  5.0        1\n",
       "5  9.0        2\n",
       "7  4.0        0"
      ]
     },
     "execution_count": 31,
     "metadata": {},
     "output_type": "execute_result"
    }
   ],
   "source": [
    "df['층정보level'] = pd.qcut(df['층정보'], 5, labels=[0, 1, 2,3,4])\n",
    "df[['층정보', '층정보level']].head()"
   ]
  },
  {
   "cell_type": "code",
   "execution_count": 32,
   "metadata": {},
   "outputs": [
    {
     "data": {
      "text/plain": [
       "<seaborn.axisgrid.FacetGrid at 0x204520b1af0>"
      ]
     },
     "execution_count": 32,
     "metadata": {},
     "output_type": "execute_result"
    },
    {
     "data": {
      "image/png": "[encoded data removed]",
      "text/plain": [
       "<Figure size 419.25x360 with 1 Axes>"
      ]
     },
     "metadata": {
      "needs_background": "light"
     },
     "output_type": "display_data"
    }
   ],
   "source": [
    "sns.displot(df, x='층정보', hue='층정보level', element='step')"
   ]
  },
  {
   "cell_type": "code",
   "execution_count": 33,
   "metadata": {
    "collapsed": true
   },
   "outputs": [
    {
     "data": {
      "text/html": [
       "<div>\n",
       "<style scoped>\n",
       "    .dataframe tbody tr th:only-of-type {\n",
       "        vertical-align: middle;\n",
       "    }\n",
       "\n",
       "    .dataframe tbody tr th {\n",
       "        vertical-align: top;\n",
       "    }\n",
       "\n",
       "    .dataframe thead th {\n",
       "        text-align: right;\n",
       "    }\n",
       "</style>\n",
       "<table border=\"1\" class=\"dataframe\">\n",
       "  <thead>\n",
       "    <tr style=\"text-align: right;\">\n",
       "      <th></th>\n",
       "      <th>건물년식</th>\n",
       "      <th>건물년식level</th>\n",
       "    </tr>\n",
       "  </thead>\n",
       "  <tbody>\n",
       "    <tr>\n",
       "      <th>2</th>\n",
       "      <td>27.0</td>\n",
       "      <td>3</td>\n",
       "    </tr>\n",
       "    <tr>\n",
       "      <th>3</th>\n",
       "      <td>20.0</td>\n",
       "      <td>2</td>\n",
       "    </tr>\n",
       "    <tr>\n",
       "      <th>4</th>\n",
       "      <td>50.0</td>\n",
       "      <td>4</td>\n",
       "    </tr>\n",
       "    <tr>\n",
       "      <th>5</th>\n",
       "      <td>39.0</td>\n",
       "      <td>4</td>\n",
       "    </tr>\n",
       "    <tr>\n",
       "      <th>7</th>\n",
       "      <td>19.0</td>\n",
       "      <td>2</td>\n",
       "    </tr>\n",
       "  </tbody>\n",
       "</table>\n",
       "</div>"
      ],
      "text/plain": [
       "   건물년식 건물년식level\n",
       "2  27.0         3\n",
       "3  20.0         2\n",
       "4  50.0         4\n",
       "5  39.0         4\n",
       "7  19.0         2"
      ]
     },
     "execution_count": 33,
     "metadata": {},
     "output_type": "execute_result"
    }
   ],
   "source": [
    "df['건물년식level'] = pd.qcut(df['건물년식'], 5, labels=[0, 1, 2,3,4])\n",
    "df[['건물년식', '건물년식level']].head()"
   ]
  },
  {
   "cell_type": "code",
   "execution_count": 34,
   "metadata": {},
   "outputs": [
    {
     "data": {
      "text/plain": [
       "<seaborn.axisgrid.FacetGrid at 0x20451ac6f70>"
      ]
     },
     "execution_count": 34,
     "metadata": {},
     "output_type": "execute_result"
    },
    {
     "data": {
      "image/png": "[encoded data removed]",
      "text/plain": [
       "<Figure size 429.25x360 with 1 Axes>"
      ]
     },
     "metadata": {
      "needs_background": "light"
     },
     "output_type": "display_data"
    }
   ],
   "source": [
    "sns.displot(df, x='건물년식', hue='건물년식level', element='step')"
   ]
  },
  {
   "cell_type": "code",
   "execution_count": 35,
   "metadata": {
    "collapsed": true
   },
   "outputs": [
    {
     "data": {
      "text/html": [
       "<div>\n",
       "<style scoped>\n",
       "    .dataframe tbody tr th:only-of-type {\n",
       "        vertical-align: middle;\n",
       "    }\n",
       "\n",
       "    .dataframe tbody tr th {\n",
       "        vertical-align: top;\n",
       "    }\n",
       "\n",
       "    .dataframe thead th {\n",
       "        text-align: right;\n",
       "    }\n",
       "</style>\n",
       "<table border=\"1\" class=\"dataframe\">\n",
       "  <thead>\n",
       "    <tr style=\"text-align: right;\">\n",
       "      <th></th>\n",
       "      <th>물건금액(단위:억)</th>\n",
       "      <th>물건금액level</th>\n",
       "    </tr>\n",
       "  </thead>\n",
       "  <tbody>\n",
       "    <tr>\n",
       "      <th>2</th>\n",
       "      <td>1.0</td>\n",
       "      <td>0</td>\n",
       "    </tr>\n",
       "    <tr>\n",
       "      <th>3</th>\n",
       "      <td>8.3</td>\n",
       "      <td>3</td>\n",
       "    </tr>\n",
       "    <tr>\n",
       "      <th>4</th>\n",
       "      <td>7.4</td>\n",
       "      <td>2</td>\n",
       "    </tr>\n",
       "    <tr>\n",
       "      <th>5</th>\n",
       "      <td>14.3</td>\n",
       "      <td>4</td>\n",
       "    </tr>\n",
       "    <tr>\n",
       "      <th>7</th>\n",
       "      <td>8.8</td>\n",
       "      <td>3</td>\n",
       "    </tr>\n",
       "  </tbody>\n",
       "</table>\n",
       "</div>"
      ],
      "text/plain": [
       "   물건금액(단위:억) 물건금액level\n",
       "2         1.0         0\n",
       "3         8.3         3\n",
       "4         7.4         2\n",
       "5        14.3         4\n",
       "7         8.8         3"
      ]
     },
     "execution_count": 35,
     "metadata": {},
     "output_type": "execute_result"
    }
   ],
   "source": [
    "df['물건금액level'] = pd.qcut(df['물건금액(단위:억)'], 5, labels=[0, 1, 2,3,4])\n",
    "df[['물건금액(단위:억)', '물건금액level']].head()"
   ]
  },
  {
   "cell_type": "code",
   "execution_count": 36,
   "metadata": {},
   "outputs": [
    {
     "data": {
      "text/plain": [
       "<seaborn.axisgrid.FacetGrid at 0x204524a9490>"
      ]
     },
     "execution_count": 36,
     "metadata": {},
     "output_type": "execute_result"
    },
    {
     "data": {
      "image/png": "[encoded data removed]",
      "text/plain": [
       "<Figure size 429.25x360 with 1 Axes>"
      ]
     },
     "metadata": {
      "needs_background": "light"
     },
     "output_type": "display_data"
    }
   ],
   "source": [
    "sns.displot(df, x='물건금액(단위:억)', hue='물건금액level', element='step')"
   ]
  },
  {
   "cell_type": "code",
   "execution_count": 255,
   "metadata": {
    "collapsed": true
   },
   "outputs": [
    {
     "data": {
      "text/html": [
       "<div>\n",
       "<style scoped>\n",
       "    .dataframe tbody tr th:only-of-type {\n",
       "        vertical-align: middle;\n",
       "    }\n",
       "\n",
       "    .dataframe tbody tr th {\n",
       "        vertical-align: top;\n",
       "    }\n",
       "\n",
       "    .dataframe thead th {\n",
       "        text-align: right;\n",
       "    }\n",
       "</style>\n",
       "<table border=\"1\" class=\"dataframe\">\n",
       "  <thead>\n",
       "    <tr style=\"text-align: right;\">\n",
       "      <th></th>\n",
       "      <th>자치구명</th>\n",
       "      <th>법정동명</th>\n",
       "      <th>건물면적</th>\n",
       "      <th>층정보</th>\n",
       "      <th>건축년도</th>\n",
       "      <th>물건금액</th>\n",
       "      <th>건물명</th>\n",
       "      <th>평수</th>\n",
       "      <th>물건금액(단위:억)</th>\n",
       "      <th>평당가격(단위:천만)</th>\n",
       "      <th>건물년식</th>\n",
       "      <th>동네명</th>\n",
       "      <th>Total</th>\n",
       "      <th>Segment</th>\n",
       "      <th>평수level</th>\n",
       "      <th>층정보level</th>\n",
       "      <th>건물년식level</th>\n",
       "      <th>물건금액level</th>\n",
       "    </tr>\n",
       "  </thead>\n",
       "  <tbody>\n",
       "    <tr>\n",
       "      <th>2</th>\n",
       "      <td>구로구</td>\n",
       "      <td>구로동</td>\n",
       "      <td>36.90</td>\n",
       "      <td>1.0</td>\n",
       "      <td>1994.0</td>\n",
       "      <td>105000000</td>\n",
       "      <td>궁전아트빌라</td>\n",
       "      <td>11.0</td>\n",
       "      <td>1.0</td>\n",
       "      <td>0.955</td>\n",
       "      <td>27.0</td>\n",
       "      <td>구로구 구로동</td>\n",
       "      <td>2</td>\n",
       "      <td>Three</td>\n",
       "      <td>0</td>\n",
       "      <td>0</td>\n",
       "      <td>3</td>\n",
       "      <td>0</td>\n",
       "    </tr>\n",
       "    <tr>\n",
       "      <th>3</th>\n",
       "      <td>용산구</td>\n",
       "      <td>산천동</td>\n",
       "      <td>59.55</td>\n",
       "      <td>2.0</td>\n",
       "      <td>2001.0</td>\n",
       "      <td>830000000</td>\n",
       "      <td>리버힐삼성</td>\n",
       "      <td>18.0</td>\n",
       "      <td>8.3</td>\n",
       "      <td>4.611</td>\n",
       "      <td>20.0</td>\n",
       "      <td>용산구 산천동</td>\n",
       "      <td>2</td>\n",
       "      <td>Three</td>\n",
       "      <td>0</td>\n",
       "      <td>0</td>\n",
       "      <td>2</td>\n",
       "      <td>3</td>\n",
       "    </tr>\n",
       "    <tr>\n",
       "      <th>4</th>\n",
       "      <td>용산구</td>\n",
       "      <td>이촌동</td>\n",
       "      <td>64.43</td>\n",
       "      <td>5.0</td>\n",
       "      <td>1971.0</td>\n",
       "      <td>735000000</td>\n",
       "      <td>강변</td>\n",
       "      <td>19.0</td>\n",
       "      <td>7.4</td>\n",
       "      <td>3.868</td>\n",
       "      <td>50.0</td>\n",
       "      <td>용산구 이촌동</td>\n",
       "      <td>2</td>\n",
       "      <td>Three</td>\n",
       "      <td>0</td>\n",
       "      <td>1</td>\n",
       "      <td>4</td>\n",
       "      <td>2</td>\n",
       "    </tr>\n",
       "    <tr>\n",
       "      <th>5</th>\n",
       "      <td>용산구</td>\n",
       "      <td>이태원동</td>\n",
       "      <td>105.75</td>\n",
       "      <td>9.0</td>\n",
       "      <td>1982.0</td>\n",
       "      <td>1430000000</td>\n",
       "      <td>청화1</td>\n",
       "      <td>32.0</td>\n",
       "      <td>14.3</td>\n",
       "      <td>4.469</td>\n",
       "      <td>39.0</td>\n",
       "      <td>용산구 이태원동</td>\n",
       "      <td>2</td>\n",
       "      <td>Three</td>\n",
       "      <td>2</td>\n",
       "      <td>2</td>\n",
       "      <td>4</td>\n",
       "      <td>4</td>\n",
       "    </tr>\n",
       "    <tr>\n",
       "      <th>7</th>\n",
       "      <td>용산구</td>\n",
       "      <td>후암동</td>\n",
       "      <td>150.08</td>\n",
       "      <td>4.0</td>\n",
       "      <td>2002.0</td>\n",
       "      <td>875000000</td>\n",
       "      <td>힐튼빌리지2차</td>\n",
       "      <td>45.0</td>\n",
       "      <td>8.8</td>\n",
       "      <td>1.944</td>\n",
       "      <td>19.0</td>\n",
       "      <td>용산구 후암동</td>\n",
       "      <td>0</td>\n",
       "      <td>One</td>\n",
       "      <td>3</td>\n",
       "      <td>0</td>\n",
       "      <td>2</td>\n",
       "      <td>3</td>\n",
       "    </tr>\n",
       "  </tbody>\n",
       "</table>\n",
       "</div>"
      ],
      "text/plain": [
       "  자치구명  법정동명    건물면적  층정보    건축년도        물건금액      건물명    평수  물건금액(단위:억)  \\\n",
       "2  구로구   구로동   36.90  1.0  1994.0   105000000   궁전아트빌라  11.0         1.0   \n",
       "3  용산구   산천동   59.55  2.0  2001.0   830000000    리버힐삼성  18.0         8.3   \n",
       "4  용산구   이촌동   64.43  5.0  1971.0   735000000       강변  19.0         7.4   \n",
       "5  용산구  이태원동  105.75  9.0  1982.0  1430000000      청화1  32.0        14.3   \n",
       "7  용산구   후암동  150.08  4.0  2002.0   875000000  힐튼빌리지2차  45.0         8.8   \n",
       "\n",
       "   평당가격(단위:천만)  건물년식       동네명  Total Segment 평수level 층정보level 건물년식level  \\\n",
       "2        0.955  27.0   구로구 구로동      2   Three       0        0         3   \n",
       "3        4.611  20.0   용산구 산천동      2   Three       0        0         2   \n",
       "4        3.868  50.0   용산구 이촌동      2   Three       0        1         4   \n",
       "5        4.469  39.0  용산구 이태원동      2   Three       2        2         4   \n",
       "7        1.944  19.0   용산구 후암동      0     One       3        0         2   \n",
       "\n",
       "  물건금액level  \n",
       "2         0  \n",
       "3         3  \n",
       "4         2  \n",
       "5         4  \n",
       "7         3  "
      ]
     },
     "execution_count": 255,
     "metadata": {},
     "output_type": "execute_result"
    }
   ],
   "source": [
    "df.head()"
   ]
  },
  {
   "cell_type": "code",
   "execution_count": 39,
   "metadata": {
    "collapsed": true
   },
   "outputs": [
    {
     "name": "stdout",
     "output_type": "stream",
     "text": [
      "<class 'pandas.core.frame.DataFrame'>\n",
      "Int64Index: 87372 entries, 2 to 175994\n",
      "Data columns (total 18 columns):\n",
      " #   Column       Non-Null Count  Dtype   \n",
      "---  ------       --------------  -----   \n",
      " 0   자치구명         87372 non-null  object  \n",
      " 1   법정동명         87372 non-null  object  \n",
      " 2   건물면적         87372 non-null  float64 \n",
      " 3   층정보          87372 non-null  float64 \n",
      " 4   건축년도         87372 non-null  float64 \n",
      " 5   물건금액         87372 non-null  int64   \n",
      " 6   건물명          87372 non-null  object  \n",
      " 7   평수           87372 non-null  float64 \n",
      " 8   물건금액(단위:억)   87372 non-null  float64 \n",
      " 9   평당가격(단위:천만)  87372 non-null  float64 \n",
      " 10  건물년식         87372 non-null  float64 \n",
      " 11  동네명          87372 non-null  object  \n",
      " 12  Total        87372 non-null  uint16  \n",
      " 13  Segment      87372 non-null  category\n",
      " 14  평수level      87372 non-null  category\n",
      " 15  층정보level     87372 non-null  category\n",
      " 16  건물년식level    87372 non-null  category\n",
      " 17  물건금액level    87372 non-null  category\n",
      "dtypes: category(5), float64(7), int64(1), object(4), uint16(1)\n",
      "memory usage: 11.3+ MB\n"
     ]
    }
   ],
   "source": [
    "df.info()"
   ]
  },
  {
   "cell_type": "code",
   "execution_count": 93,
   "metadata": {
    "collapsed": true
   },
   "outputs": [
    {
     "name": "stderr",
     "output_type": "stream",
     "text": [
      "C:\\Users\\LEE_JI_HYEOK_V2\\anaconda3\\lib\\site-packages\\seaborn\\distributions.py:2619: FutureWarning: `distplot` is a deprecated function and will be removed in a future version. Please adapt your code to use either `displot` (a figure-level function with similar flexibility) or `histplot` (an axes-level function for histograms).\n"
     ]
    },
    {
     "data": {
      "text/plain": [
       "<AxesSubplot:xlabel='층정보', ylabel='Density'>"
      ]
     },
     "execution_count": 93,
     "metadata": {},
     "output_type": "execute_result"
    },
    {
     "data": {
      "image/png": "[encoded data removed]",
      "text/plain": [
       "<Figure size 864x720 with 1 Axes>"
      ]
     },
     "metadata": {
      "needs_background": "light"
     },
     "output_type": "display_data"
    }
   ],
   "source": [
    "#그래프 사이즈 설정\n",
    "plt.figure(figsize=(12, 10))\n",
    "sns.distplot(q5cut(df['층정보']))"
   ]
  },
  {
   "cell_type": "code",
   "execution_count": 44,
   "metadata": {
    "collapsed": true
   },
   "outputs": [
    {
     "data": {
      "text/html": [
       "<div>\n",
       "<style scoped>\n",
       "    .dataframe tbody tr th:only-of-type {\n",
       "        vertical-align: middle;\n",
       "    }\n",
       "\n",
       "    .dataframe tbody tr th {\n",
       "        vertical-align: top;\n",
       "    }\n",
       "\n",
       "    .dataframe thead th {\n",
       "        text-align: right;\n",
       "    }\n",
       "</style>\n",
       "<table border=\"1\" class=\"dataframe\">\n",
       "  <thead>\n",
       "    <tr style=\"text-align: right;\">\n",
       "      <th></th>\n",
       "      <th>Segment</th>\n",
       "      <th>One</th>\n",
       "      <th>Two</th>\n",
       "      <th>Three</th>\n",
       "    </tr>\n",
       "  </thead>\n",
       "  <tbody>\n",
       "    <tr>\n",
       "      <th rowspan=\"2\" valign=\"top\">건물면적</th>\n",
       "      <th>median</th>\n",
       "      <td>1.196700e+02</td>\n",
       "      <td>8.399000e+01</td>\n",
       "      <td>5.991000e+01</td>\n",
       "    </tr>\n",
       "    <tr>\n",
       "      <th>mean</th>\n",
       "      <td>1.297434e+02</td>\n",
       "      <td>7.076740e+01</td>\n",
       "      <td>6.434363e+01</td>\n",
       "    </tr>\n",
       "    <tr>\n",
       "      <th rowspan=\"2\" valign=\"top\">층정보</th>\n",
       "      <th>median</th>\n",
       "      <td>9.000000e+00</td>\n",
       "      <td>9.000000e+00</td>\n",
       "      <td>7.000000e+00</td>\n",
       "    </tr>\n",
       "    <tr>\n",
       "      <th>mean</th>\n",
       "      <td>1.072715e+01</td>\n",
       "      <td>9.740322e+00</td>\n",
       "      <td>7.791524e+00</td>\n",
       "    </tr>\n",
       "    <tr>\n",
       "      <th rowspan=\"2\" valign=\"top\">건축년도</th>\n",
       "      <th>median</th>\n",
       "      <td>2.002000e+03</td>\n",
       "      <td>2.007000e+03</td>\n",
       "      <td>1.994000e+03</td>\n",
       "    </tr>\n",
       "    <tr>\n",
       "      <th>mean</th>\n",
       "      <td>2.000502e+03</td>\n",
       "      <td>2.008281e+03</td>\n",
       "      <td>1.992741e+03</td>\n",
       "    </tr>\n",
       "    <tr>\n",
       "      <th rowspan=\"2\" valign=\"top\">물건금액</th>\n",
       "      <th>median</th>\n",
       "      <td>1.225000e+09</td>\n",
       "      <td>7.450000e+08</td>\n",
       "      <td>5.600000e+08</td>\n",
       "    </tr>\n",
       "    <tr>\n",
       "      <th>mean</th>\n",
       "      <td>1.438678e+09</td>\n",
       "      <td>8.138285e+08</td>\n",
       "      <td>6.569392e+08</td>\n",
       "    </tr>\n",
       "    <tr>\n",
       "      <th rowspan=\"2\" valign=\"top\">평수</th>\n",
       "      <th>median</th>\n",
       "      <td>3.600000e+01</td>\n",
       "      <td>2.500000e+01</td>\n",
       "      <td>1.800000e+01</td>\n",
       "    </tr>\n",
       "    <tr>\n",
       "      <th>mean</th>\n",
       "      <td>3.933155e+01</td>\n",
       "      <td>2.152553e+01</td>\n",
       "      <td>1.951290e+01</td>\n",
       "    </tr>\n",
       "    <tr>\n",
       "      <th rowspan=\"2\" valign=\"top\">물건금액(단위:억)</th>\n",
       "      <th>median</th>\n",
       "      <td>1.220000e+01</td>\n",
       "      <td>7.400000e+00</td>\n",
       "      <td>5.600000e+00</td>\n",
       "    </tr>\n",
       "    <tr>\n",
       "      <th>mean</th>\n",
       "      <td>1.438767e+01</td>\n",
       "      <td>8.140052e+00</td>\n",
       "      <td>6.571226e+00</td>\n",
       "    </tr>\n",
       "    <tr>\n",
       "      <th rowspan=\"2\" valign=\"top\">평당가격(단위:천만)</th>\n",
       "      <th>median</th>\n",
       "      <td>3.151000e+00</td>\n",
       "      <td>3.423000e+00</td>\n",
       "      <td>2.944000e+00</td>\n",
       "    </tr>\n",
       "    <tr>\n",
       "      <th>mean</th>\n",
       "      <td>3.644661e+00</td>\n",
       "      <td>3.817166e+00</td>\n",
       "      <td>3.372560e+00</td>\n",
       "    </tr>\n",
       "    <tr>\n",
       "      <th rowspan=\"2\" valign=\"top\">건물년식</th>\n",
       "      <th>median</th>\n",
       "      <td>1.900000e+01</td>\n",
       "      <td>1.400000e+01</td>\n",
       "      <td>2.700000e+01</td>\n",
       "    </tr>\n",
       "    <tr>\n",
       "      <th>mean</th>\n",
       "      <td>2.049793e+01</td>\n",
       "      <td>1.271915e+01</td>\n",
       "      <td>2.825875e+01</td>\n",
       "    </tr>\n",
       "    <tr>\n",
       "      <th rowspan=\"2\" valign=\"top\">Total</th>\n",
       "      <th>median</th>\n",
       "      <td>0.000000e+00</td>\n",
       "      <td>1.000000e+00</td>\n",
       "      <td>2.000000e+00</td>\n",
       "    </tr>\n",
       "    <tr>\n",
       "      <th>mean</th>\n",
       "      <td>0.000000e+00</td>\n",
       "      <td>1.000000e+00</td>\n",
       "      <td>2.000000e+00</td>\n",
       "    </tr>\n",
       "  </tbody>\n",
       "</table>\n",
       "</div>"
      ],
      "text/plain": [
       "Segment                      One           Two         Three\n",
       "건물면적        median  1.196700e+02  8.399000e+01  5.991000e+01\n",
       "            mean    1.297434e+02  7.076740e+01  6.434363e+01\n",
       "층정보         median  9.000000e+00  9.000000e+00  7.000000e+00\n",
       "            mean    1.072715e+01  9.740322e+00  7.791524e+00\n",
       "건축년도        median  2.002000e+03  2.007000e+03  1.994000e+03\n",
       "            mean    2.000502e+03  2.008281e+03  1.992741e+03\n",
       "물건금액        median  1.225000e+09  7.450000e+08  5.600000e+08\n",
       "            mean    1.438678e+09  8.138285e+08  6.569392e+08\n",
       "평수          median  3.600000e+01  2.500000e+01  1.800000e+01\n",
       "            mean    3.933155e+01  2.152553e+01  1.951290e+01\n",
       "물건금액(단위:억)  median  1.220000e+01  7.400000e+00  5.600000e+00\n",
       "            mean    1.438767e+01  8.140052e+00  6.571226e+00\n",
       "평당가격(단위:천만) median  3.151000e+00  3.423000e+00  2.944000e+00\n",
       "            mean    3.644661e+00  3.817166e+00  3.372560e+00\n",
       "건물년식        median  1.900000e+01  1.400000e+01  2.700000e+01\n",
       "            mean    2.049793e+01  1.271915e+01  2.825875e+01\n",
       "Total       median  0.000000e+00  1.000000e+00  2.000000e+00\n",
       "            mean    0.000000e+00  1.000000e+00  2.000000e+00"
      ]
     },
     "execution_count": 44,
     "metadata": {},
     "output_type": "execute_result"
    }
   ],
   "source": [
    "pd.set_option('max_rows',None)\n",
    "df.groupby('Segment').agg(['median' ,'mean']).T"
   ]
  },
  {
   "cell_type": "code",
   "execution_count": 108,
   "metadata": {
    "collapsed": true
   },
   "outputs": [
    {
     "data": {
      "text/plain": [
       "Index(['자치구명', '법정동명', '건물면적', '층정보', '건축년도', '물건금액', '건물명', '평수',\n",
       "       '물건금액(단위:억)', '평당가격(단위:천만)', '건물년식', '동네명', 'Total', 'Segment',\n",
       "       '평수level', '층정보level', '건물년식level', '물건금액level'],\n",
       "      dtype='object')"
      ]
     },
     "execution_count": 108,
     "metadata": {},
     "output_type": "execute_result"
    }
   ],
   "source": [
    "df.columns"
   ]
  },
  {
   "cell_type": "markdown",
   "metadata": {},
   "source": [
    "# 레이더 차트를 그리기"
   ]
  },
  {
   "cell_type": "code",
   "execution_count": 256,
   "metadata": {
    "scrolled": true
   },
   "outputs": [
    {
     "data": {
      "text/html": [
       "<div>\n",
       "<style scoped>\n",
       "    .dataframe tbody tr th:only-of-type {\n",
       "        vertical-align: middle;\n",
       "    }\n",
       "\n",
       "    .dataframe tbody tr th {\n",
       "        vertical-align: top;\n",
       "    }\n",
       "\n",
       "    .dataframe thead th {\n",
       "        text-align: right;\n",
       "    }\n",
       "</style>\n",
       "<table border=\"1\" class=\"dataframe\">\n",
       "  <thead>\n",
       "    <tr style=\"text-align: right;\">\n",
       "      <th></th>\n",
       "      <th>Segment</th>\n",
       "      <th>평수level</th>\n",
       "      <th>층정보level</th>\n",
       "      <th>건물년식level</th>\n",
       "      <th>물건금액level</th>\n",
       "    </tr>\n",
       "  </thead>\n",
       "  <tbody>\n",
       "    <tr>\n",
       "      <th>2</th>\n",
       "      <td>Three</td>\n",
       "      <td>0</td>\n",
       "      <td>0</td>\n",
       "      <td>3</td>\n",
       "      <td>0</td>\n",
       "    </tr>\n",
       "    <tr>\n",
       "      <th>3</th>\n",
       "      <td>Three</td>\n",
       "      <td>0</td>\n",
       "      <td>0</td>\n",
       "      <td>2</td>\n",
       "      <td>3</td>\n",
       "    </tr>\n",
       "    <tr>\n",
       "      <th>4</th>\n",
       "      <td>Three</td>\n",
       "      <td>0</td>\n",
       "      <td>1</td>\n",
       "      <td>4</td>\n",
       "      <td>2</td>\n",
       "    </tr>\n",
       "    <tr>\n",
       "      <th>5</th>\n",
       "      <td>Three</td>\n",
       "      <td>2</td>\n",
       "      <td>2</td>\n",
       "      <td>4</td>\n",
       "      <td>4</td>\n",
       "    </tr>\n",
       "    <tr>\n",
       "      <th>7</th>\n",
       "      <td>One</td>\n",
       "      <td>3</td>\n",
       "      <td>0</td>\n",
       "      <td>2</td>\n",
       "      <td>3</td>\n",
       "    </tr>\n",
       "  </tbody>\n",
       "</table>\n",
       "</div>"
      ],
      "text/plain": [
       "  Segment  평수level  층정보level  건물년식level  물건금액level\n",
       "2   Three        0         0          3          0\n",
       "3   Three        0         0          2          3\n",
       "4   Three        0         1          4          2\n",
       "5   Three        2         2          4          4\n",
       "7     One        3         0          2          3"
      ]
     },
     "execution_count": 256,
     "metadata": {},
     "output_type": "execute_result"
    }
   ],
   "source": [
    "df_new=df[['Segment','평수level', '층정보level', '건물년식level', '물건금액level']]\n",
    "df_new=df_new.astype({'평수level':'int'\n",
    "              ,'층정보level':'int'\n",
    "              ,'건물년식level':'int'\n",
    "              ,'물건금액level':'int'})\n",
    "df_new.head()"
   ]
  },
  {
   "cell_type": "code",
   "execution_count": 257,
   "metadata": {},
   "outputs": [],
   "source": [
    "df_new=df[['Segment','평수level', '층정보level', '건물년식level', '물건금액level']]\n",
    "df_new=df_new.astype({'평수level':'int'\n",
    "              ,'층정보level':'int'\n",
    "              ,'건물년식level':'int'\n",
    "              ,'물건금액level':'int'})\n",
    "df_new=df_new.groupby('Segment').mean()\n",
    "df_new=df_new.reset_index()"
   ]
  },
  {
   "cell_type": "code",
   "execution_count": 258,
   "metadata": {
    "scrolled": false
   },
   "outputs": [
    {
     "data": {
      "image/png": "[encoded data removed]",
      "text/plain": [
       "<Figure size 1080x1440 with 3 Axes>"
      ]
     },
     "metadata": {},
     "output_type": "display_data"
    }
   ],
   "source": [
    "## 따로 그리기\n",
    "labels = df_new.columns[1:]\n",
    "num_labels = len(labels)\n",
    "\n",
    "angles = [x/float(num_labels)*(2*pi) for x in range(num_labels)] ## 각 등분점\n",
    "angles += angles[:1] ## 시작점으로 다시 돌아와야하므로 시작점 추가\n",
    "\n",
    "my_palette = plt.cm.get_cmap(\"Set2\", len(df.index))\n",
    "\n",
    "fig = plt.figure(figsize=(15,20))\n",
    "fig.set_facecolor('white')\n",
    "\n",
    "for i, row in df_new.iterrows():\n",
    "    color = my_palette(i)\n",
    "    data = df_new.iloc[i].drop('Segment').tolist()\n",
    "    data += data[:1]\n",
    "    \n",
    "    ax = plt.subplot(3,2,i+1, polar=True)\n",
    "    ax.set_theta_offset(pi / 2) ## 시작점\n",
    "    ax.set_theta_direction(-1) ## 그려지는 방향 시계방향\n",
    "    \n",
    "    plt.xticks(angles[:-1], labels, fontsize=13) ## x축 눈금 라벨\n",
    "    ax.tick_params(axis='x', which='major', pad=15) ## x축과 눈금 사이에 여백을 준다.\n",
    " \n",
    "    ax.set_rlabel_position(0) ## y축 각도 설정(degree 단위)\n",
    "    plt.yticks([0,1,2,3,4,5],['0','1','2','3','4','5'], fontsize=10) ## y축 눈금 설정\n",
    "    plt.ylim(0,5)\n",
    "    \n",
    "    ax.plot(angles, data, color=color, linewidth=2, linestyle='solid') ## 레이더 차트 출력\n",
    "    ax.fill(angles, data, color=color, alpha=0.4) ## 도형 안쪽에 색을 채워준다.\n",
    "    \n",
    "    plt.title(row.Segment, size=20, color=color,x=-0.2, y=1.2, ha='left') ## 타이틀은 Segment로 한다.\n",
    " \n",
    "plt.tight_layout(pad=5) ## subplot간 패딩 조절\n",
    "plt.show()"
   ]
  },
  {
   "cell_type": "code",
   "execution_count": 259,
   "metadata": {
    "scrolled": true
   },
   "outputs": [
    {
     "data": {
      "text/html": [
       "<div>\n",
       "<style scoped>\n",
       "    .dataframe tbody tr th:only-of-type {\n",
       "        vertical-align: middle;\n",
       "    }\n",
       "\n",
       "    .dataframe tbody tr th {\n",
       "        vertical-align: top;\n",
       "    }\n",
       "\n",
       "    .dataframe thead th {\n",
       "        text-align: right;\n",
       "    }\n",
       "</style>\n",
       "<table border=\"1\" class=\"dataframe\">\n",
       "  <thead>\n",
       "    <tr style=\"text-align: right;\">\n",
       "      <th></th>\n",
       "      <th>건물면적</th>\n",
       "      <th>층정보</th>\n",
       "      <th>건축년도</th>\n",
       "      <th>물건금액</th>\n",
       "      <th>평수</th>\n",
       "      <th>물건금액(단위:억)</th>\n",
       "      <th>평당가격(단위:천만)</th>\n",
       "      <th>건물년식</th>\n",
       "      <th>Total</th>\n",
       "    </tr>\n",
       "    <tr>\n",
       "      <th>Segment</th>\n",
       "      <th></th>\n",
       "      <th></th>\n",
       "      <th></th>\n",
       "      <th></th>\n",
       "      <th></th>\n",
       "      <th></th>\n",
       "      <th></th>\n",
       "      <th></th>\n",
       "      <th></th>\n",
       "    </tr>\n",
       "  </thead>\n",
       "  <tbody>\n",
       "    <tr>\n",
       "      <th>One</th>\n",
       "      <td>129.743376</td>\n",
       "      <td>10.727155</td>\n",
       "      <td>2000.502068</td>\n",
       "      <td>1.438678e+09</td>\n",
       "      <td>39.331550</td>\n",
       "      <td>14.387667</td>\n",
       "      <td>3.644661</td>\n",
       "      <td>20.497932</td>\n",
       "      <td>0.0</td>\n",
       "    </tr>\n",
       "    <tr>\n",
       "      <th>Two</th>\n",
       "      <td>70.767397</td>\n",
       "      <td>9.740322</td>\n",
       "      <td>2008.280852</td>\n",
       "      <td>8.138285e+08</td>\n",
       "      <td>21.525532</td>\n",
       "      <td>8.140052</td>\n",
       "      <td>3.817166</td>\n",
       "      <td>12.719148</td>\n",
       "      <td>1.0</td>\n",
       "    </tr>\n",
       "    <tr>\n",
       "      <th>Three</th>\n",
       "      <td>64.343631</td>\n",
       "      <td>7.791524</td>\n",
       "      <td>1992.741251</td>\n",
       "      <td>6.569392e+08</td>\n",
       "      <td>19.512900</td>\n",
       "      <td>6.571226</td>\n",
       "      <td>3.372560</td>\n",
       "      <td>28.258749</td>\n",
       "      <td>2.0</td>\n",
       "    </tr>\n",
       "  </tbody>\n",
       "</table>\n",
       "</div>"
      ],
      "text/plain": [
       "               건물면적        층정보         건축년도          물건금액         평수  \\\n",
       "Segment                                                                \n",
       "One      129.743376  10.727155  2000.502068  1.438678e+09  39.331550   \n",
       "Two       70.767397   9.740322  2008.280852  8.138285e+08  21.525532   \n",
       "Three     64.343631   7.791524  1992.741251  6.569392e+08  19.512900   \n",
       "\n",
       "         물건금액(단위:억)  평당가격(단위:천만)       건물년식  Total  \n",
       "Segment                                             \n",
       "One       14.387667     3.644661  20.497932    0.0  \n",
       "Two        8.140052     3.817166  12.719148    1.0  \n",
       "Three      6.571226     3.372560  28.258749    2.0  "
      ]
     },
     "execution_count": 259,
     "metadata": {},
     "output_type": "execute_result"
    }
   ],
   "source": [
    "df.groupby('Segment').mean()"
   ]
  },
  {
   "cell_type": "code",
   "execution_count": 260,
   "metadata": {
    "collapsed": true
   },
   "outputs": [
    {
     "data": {
      "text/plain": [
       "Index(['자치구명', '법정동명', '건물면적', '층정보', '건축년도', '물건금액', '건물명', '평수',\n",
       "       '물건금액(단위:억)', '평당가격(단위:천만)', '건물년식', '동네명', 'Total', 'Segment',\n",
       "       '평수level', '층정보level', '건물년식level', '물건금액level'],\n",
       "      dtype='object')"
      ]
     },
     "execution_count": 260,
     "metadata": {},
     "output_type": "execute_result"
    }
   ],
   "source": [
    "df.columns"
   ]
  },
  {
   "cell_type": "markdown",
   "metadata": {},
   "source": [
    "# 1번 군집 데이터 프레임 생성"
   ]
  },
  {
   "cell_type": "code",
   "execution_count": 261,
   "metadata": {},
   "outputs": [
    {
     "data": {
      "text/html": [
       "<div>\n",
       "<style scoped>\n",
       "    .dataframe tbody tr th:only-of-type {\n",
       "        vertical-align: middle;\n",
       "    }\n",
       "\n",
       "    .dataframe tbody tr th {\n",
       "        vertical-align: top;\n",
       "    }\n",
       "\n",
       "    .dataframe thead th {\n",
       "        text-align: right;\n",
       "    }\n",
       "</style>\n",
       "<table border=\"1\" class=\"dataframe\">\n",
       "  <thead>\n",
       "    <tr style=\"text-align: right;\">\n",
       "      <th></th>\n",
       "      <th>층정보</th>\n",
       "      <th>건축년도</th>\n",
       "      <th>건물명</th>\n",
       "      <th>평수</th>\n",
       "      <th>물건금액(단위:억)</th>\n",
       "      <th>평당가격(단위:천만)</th>\n",
       "      <th>건물년식</th>\n",
       "      <th>동네명</th>\n",
       "      <th>평수level</th>\n",
       "      <th>층정보level</th>\n",
       "      <th>건물년식level</th>\n",
       "      <th>물건금액level</th>\n",
       "    </tr>\n",
       "  </thead>\n",
       "  <tbody>\n",
       "    <tr>\n",
       "      <th>7</th>\n",
       "      <td>4.0</td>\n",
       "      <td>2002.0</td>\n",
       "      <td>힐튼빌리지2차</td>\n",
       "      <td>45.0</td>\n",
       "      <td>8.8</td>\n",
       "      <td>1.944</td>\n",
       "      <td>19.0</td>\n",
       "      <td>용산구 후암동</td>\n",
       "      <td>3</td>\n",
       "      <td>0</td>\n",
       "      <td>2</td>\n",
       "      <td>3</td>\n",
       "    </tr>\n",
       "    <tr>\n",
       "      <th>10</th>\n",
       "      <td>16.0</td>\n",
       "      <td>1998.0</td>\n",
       "      <td>옥수하이츠</td>\n",
       "      <td>35.0</td>\n",
       "      <td>20.3</td>\n",
       "      <td>5.800</td>\n",
       "      <td>23.0</td>\n",
       "      <td>성동구 옥수동</td>\n",
       "      <td>2</td>\n",
       "      <td>4</td>\n",
       "      <td>3</td>\n",
       "      <td>4</td>\n",
       "    </tr>\n",
       "    <tr>\n",
       "      <th>11</th>\n",
       "      <td>3.0</td>\n",
       "      <td>2002.0</td>\n",
       "      <td>화인</td>\n",
       "      <td>42.0</td>\n",
       "      <td>8.0</td>\n",
       "      <td>1.905</td>\n",
       "      <td>19.0</td>\n",
       "      <td>용산구 후암동</td>\n",
       "      <td>3</td>\n",
       "      <td>0</td>\n",
       "      <td>2</td>\n",
       "      <td>2</td>\n",
       "    </tr>\n",
       "    <tr>\n",
       "      <th>29</th>\n",
       "      <td>5.0</td>\n",
       "      <td>1996.0</td>\n",
       "      <td>효창그린빌라트</td>\n",
       "      <td>49.0</td>\n",
       "      <td>8.8</td>\n",
       "      <td>1.796</td>\n",
       "      <td>25.0</td>\n",
       "      <td>마포구 공덕동</td>\n",
       "      <td>3</td>\n",
       "      <td>1</td>\n",
       "      <td>3</td>\n",
       "      <td>3</td>\n",
       "    </tr>\n",
       "    <tr>\n",
       "      <th>30</th>\n",
       "      <td>7.0</td>\n",
       "      <td>1977.0</td>\n",
       "      <td>반도</td>\n",
       "      <td>41.0</td>\n",
       "      <td>20.4</td>\n",
       "      <td>4.976</td>\n",
       "      <td>44.0</td>\n",
       "      <td>용산구 이촌동</td>\n",
       "      <td>3</td>\n",
       "      <td>2</td>\n",
       "      <td>4</td>\n",
       "      <td>4</td>\n",
       "    </tr>\n",
       "  </tbody>\n",
       "</table>\n",
       "</div>"
      ],
      "text/plain": [
       "     층정보    건축년도      건물명    평수  물건금액(단위:억)  평당가격(단위:천만)  건물년식      동네명  \\\n",
       "7    4.0  2002.0  힐튼빌리지2차  45.0         8.8        1.944  19.0  용산구 후암동   \n",
       "10  16.0  1998.0    옥수하이츠  35.0        20.3        5.800  23.0  성동구 옥수동   \n",
       "11   3.0  2002.0       화인  42.0         8.0        1.905  19.0  용산구 후암동   \n",
       "29   5.0  1996.0  효창그린빌라트  49.0         8.8        1.796  25.0  마포구 공덕동   \n",
       "30   7.0  1977.0       반도  41.0        20.4        4.976  44.0  용산구 이촌동   \n",
       "\n",
       "    평수level  층정보level  건물년식level  물건금액level  \n",
       "7         3         0          2          3  \n",
       "10        2         4          3          4  \n",
       "11        3         0          2          2  \n",
       "29        3         1          3          3  \n",
       "30        3         2          4          4  "
      ]
     },
     "execution_count": 261,
     "metadata": {},
     "output_type": "execute_result"
    }
   ],
   "source": [
    "df_One = df[df.Segment=='One'].drop(['자치구명','법정동명', '건물면적', '물건금액', 'Segment', 'Total'],axis=1)\n",
    "df_One = df_One.astype({'평수level':'int'\n",
    "              ,'층정보level':'int'\n",
    "              ,'건물년식level':'int'\n",
    "              ,'물건금액level':'int'})\n",
    "df_One.head()"
   ]
  },
  {
   "cell_type": "markdown",
   "metadata": {},
   "source": [
    "# 1번 군집에서 평당가격 3천만원 이하, 건물년식 5년내 검색"
   ]
  },
  {
   "cell_type": "code",
   "execution_count": 272,
   "metadata": {},
   "outputs": [
    {
     "data": {
      "text/html": [
       "<div>\n",
       "<style scoped>\n",
       "    .dataframe tbody tr th:only-of-type {\n",
       "        vertical-align: middle;\n",
       "    }\n",
       "\n",
       "    .dataframe tbody tr th {\n",
       "        vertical-align: top;\n",
       "    }\n",
       "\n",
       "    .dataframe thead th {\n",
       "        text-align: right;\n",
       "    }\n",
       "</style>\n",
       "<table border=\"1\" class=\"dataframe\">\n",
       "  <thead>\n",
       "    <tr style=\"text-align: right;\">\n",
       "      <th></th>\n",
       "      <th>층정보</th>\n",
       "      <th>건축년도</th>\n",
       "      <th>건물명</th>\n",
       "      <th>평수</th>\n",
       "      <th>물건금액(단위:억)</th>\n",
       "      <th>평당가격(단위:천만)</th>\n",
       "      <th>건물년식</th>\n",
       "      <th>동네명</th>\n",
       "      <th>평수level</th>\n",
       "      <th>층정보level</th>\n",
       "      <th>건물년식level</th>\n",
       "      <th>물건금액level</th>\n",
       "    </tr>\n",
       "  </thead>\n",
       "  <tbody>\n",
       "    <tr>\n",
       "      <th>0</th>\n",
       "      <td>2.0</td>\n",
       "      <td>2019.0</td>\n",
       "      <td>항동중흥에스클래스베르데카운티</td>\n",
       "      <td>45.0</td>\n",
       "      <td>10.7</td>\n",
       "      <td>2.378</td>\n",
       "      <td>2.0</td>\n",
       "      <td>구로구 항동</td>\n",
       "      <td>3</td>\n",
       "      <td>0</td>\n",
       "      <td>0</td>\n",
       "      <td>3</td>\n",
       "    </tr>\n",
       "    <tr>\n",
       "      <th>1</th>\n",
       "      <td>16.0</td>\n",
       "      <td>2019.0</td>\n",
       "      <td>항동중흥에스클래스베르데카운티</td>\n",
       "      <td>45.0</td>\n",
       "      <td>9.8</td>\n",
       "      <td>2.167</td>\n",
       "      <td>2.0</td>\n",
       "      <td>구로구 항동</td>\n",
       "      <td>3</td>\n",
       "      <td>4</td>\n",
       "      <td>0</td>\n",
       "      <td>3</td>\n",
       "    </tr>\n",
       "    <tr>\n",
       "      <th>2</th>\n",
       "      <td>14.0</td>\n",
       "      <td>2018.0</td>\n",
       "      <td>현대(6차)</td>\n",
       "      <td>37.0</td>\n",
       "      <td>9.2</td>\n",
       "      <td>2.500</td>\n",
       "      <td>3.0</td>\n",
       "      <td>노원구 중계동</td>\n",
       "      <td>2</td>\n",
       "      <td>3</td>\n",
       "      <td>0</td>\n",
       "      <td>3</td>\n",
       "    </tr>\n",
       "  </tbody>\n",
       "</table>\n",
       "</div>"
      ],
      "text/plain": [
       "    층정보    건축년도              건물명    평수  물건금액(단위:억)  평당가격(단위:천만)  건물년식  \\\n",
       "0   2.0  2019.0  항동중흥에스클래스베르데카운티  45.0        10.7        2.378   2.0   \n",
       "1  16.0  2019.0  항동중흥에스클래스베르데카운티  45.0         9.8        2.167   2.0   \n",
       "2  14.0  2018.0           현대(6차)  37.0         9.2        2.500   3.0   \n",
       "\n",
       "       동네명  평수level  층정보level  건물년식level  물건금액level  \n",
       "0   구로구 항동        3         0          0          3  \n",
       "1   구로구 항동        3         4          0          3  \n",
       "2  노원구 중계동        2         3          0          3  "
      ]
     },
     "execution_count": 272,
     "metadata": {},
     "output_type": "execute_result"
    }
   ],
   "source": [
    "df_One[(df_One['평당가격(단위:천만)']<3)&(df_One['건물년식']<5)].sort_values(by=[\"물건금액(단위:억)\",\"건물년식\",\"평수\"], \n",
    "                   ascending=[False,True,True]).groupby(['동네명'],sort=True).head(2).reset_index(drop=True)"
   ]
  },
  {
   "cell_type": "markdown",
   "metadata": {},
   "source": [
    "# 마무리하며\n",
    "### 호기롭게 실거래가를 예측하려다가 교수님의 1차 코멘트를 보고나서 아 쉬운 게 아니구나 싶었습니다. 그래서 군집분석을 실행하였습니다. 이 데이터 분석도 제가 거의 처음으로 완성 시킨 데이터라 어려운 부분이 많았습니다.\n",
    "### 평수가 넓으면서 금액이 높은 유형, 고층이면서 금액이 조금 있는 유형, 저렴하고 평수가 좁으면서 건물년식이 많은 유형이 있다는 것을 알 수 있습니다.\n",
    "### 역시 서울 중앙에 가까우면서 평수가 넓고 건물년식이 짧으며, 물건금액이 저렴한 아파트는 없었습니다. \n",
    "### 그래도 이 데이터 모델이 집을 알아보는데 사용 될 수 있을거라고 생각합니다.\n",
    "\n",
    "# 참조\n",
    "### 서울특별시 부동산 실거래가 정보 http://data.seoul.go.kr/dataList/OA-15548/S/1/datasetView.do"
   ]
  }
 ],
 "metadata": {
  "kernelspec": {
   "display_name": "Python 3 (ipykernel)",
   "language": "python",
   "name": "python3"
  },
  "language_info": {
   "codemirror_mode": {
    "name": "ipython",
    "version": 3
   },
   "file_extension": ".py",
   "mimetype": "text/x-python",
   "name": "python",
   "nbconvert_exporter": "python",
   "pygments_lexer": "ipython3",
   "version": "3.8.12"
  }
 },
 "nbformat": 4,
 "nbformat_minor": 4
}
